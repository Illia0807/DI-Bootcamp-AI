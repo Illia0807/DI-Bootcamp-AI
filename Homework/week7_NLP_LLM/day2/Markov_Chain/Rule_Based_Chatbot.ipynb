{
  "nbformat": 4,
  "nbformat_minor": 0,
  "metadata": {
    "colab": {
      "provenance": []
    },
    "kernelspec": {
      "name": "python3",
      "display_name": "Python 3"
    },
    "language_info": {
      "name": "python"
    }
  },
  "cells": [
    {
      "cell_type": "code",
      "source": [
        "# Запусти эту ячейку первой!\n",
        "import nltk\n",
        "nltk.download('punkt_tab') # Скачиваем именно этот ресурс"
      ],
      "metadata": {
        "colab": {
          "base_uri": "https://localhost:8080/"
        },
        "id": "5WBjir_N6D_2",
        "outputId": "3a944040-eb1a-47c2-ef09-e0ac9a42054d"
      },
      "execution_count": 10,
      "outputs": [
        {
          "output_type": "stream",
          "name": "stderr",
          "text": [
            "[nltk_data] Downloading package punkt_tab to /root/nltk_data...\n",
            "[nltk_data]   Unzipping tokenizers/punkt_tab.zip.\n"
          ]
        },
        {
          "output_type": "execute_result",
          "data": {
            "text/plain": [
              "True"
            ]
          },
          "metadata": {},
          "execution_count": 10
        }
      ]
    },
    {
      "cell_type": "code",
      "source": [
        "\n",
        "from nltk.tokenize import word_tokenize\n",
        "\n",
        "# Step 1: Define intents and responses\n",
        "# Определяем интенты. Ключ словаря - это название интента, значение - список ключевых слов,\n",
        "# которые могут указывать на этот интент.\n",
        "intents = {\n",
        "    \"greeting\": [\"hello\", \"hi\", \"hey\"],\n",
        "    \"opening_hours\": [\"open\", \"opening\", \"hours\", \"time\", \"work\", \"schedule\"], # Добавил синонимы для примера\n",
        "    \"pricing\": [\"price\", \"cost\", \"how much\", \"fees\"], # Добавил синонимы\n",
        "    \"menu\": [\"menu\", \"options\", \"serve\", \"food\", \"drinks\"] # Добавил для полноты\n",
        "}\n",
        "\n",
        "# Определяем ответы. Ключ словаря - название интента, значение - строка ответа.\n",
        "# 'default' - это ответ, если ни один интент не распознан.\n",
        "responses = {\n",
        "    \"greeting\": \"Hello! How can I help you today?\",\n",
        "    \"opening_hours\": \"We are open from 9 AM to 6 PM, Monday to Friday.\",\n",
        "    \"pricing\": \"Our pricing starts at $10 per month.\",\n",
        "    \"menu\": \"We serve coffee, tea, pastries, and sandwiches. Would you like to see the full menu?\",\n",
        "    \"default\": \"Sorry, I didn't understand that. Can you please rephrase?\"\n",
        "}\n",
        "\n",
        "# Step 2: Build the chatbot function\n",
        "def rule_based_chatbot(user_input):\n",
        "    # Токенизируем ввод пользователя и приводим к нижнему регистру для регистронезависимого сравнения\n",
        "    tokens = word_tokenize(user_input.lower())\n",
        "\n",
        "    # Проходимся по каждому определённому интенту и его ключевым словам\n",
        "    for intent, keywords in intents.items():\n",
        "        # Проверяем, есть ли хотя бы одно ключевое слово интента в токенах ввода пользователя\n",
        "        if any(keyword in tokens for keyword in keywords):\n",
        "            # Если найдено совпадение, возвращаем соответствующий ответ\n",
        "            return responses[intent]\n",
        "\n",
        "    # Если ни один интент не был распознан, возвращаем ответ по умолчанию\n",
        "    return responses[\"default\"]\n",
        "\n",
        "# Step 3: Test the chatbot\n",
        "print(\"--- Тестирование чат-бота ---\")\n",
        "print(f\"Пользователь: What are your opening hours?\")\n",
        "print(f\"Бот: {rule_based_chatbot('What are your opening hours?')}\")\n",
        "print(\"-\" * 30)\n",
        "\n",
        "print(f\"Пользователь: How much does it cost?\")\n",
        "print(f\"Бот: {rule_based_chatbot('How much does it cost?')}\")\n",
        "print(\"-\" * 30)\n",
        "\n",
        "print(f\"Пользователь: Tell me a joke\")\n",
        "print(f\"Бот: {rule_based_chatbot('Tell me a joke')}\")\n",
        "print(\"-\" * 30)\n",
        "\n",
        "# Тест с синонимами (добавленными в 'intents')\n",
        "print(f\"Пользователь: When do you start work?\")\n",
        "print(f\"Бот: {rule_based_chatbot('When do you start work?')}\")\n",
        "print(\"-\" * 30)\n",
        "\n",
        "print(f\"Пользователь: What are your monthly fees?\")\n",
        "print(f\"Бот: {rule_based_chatbot('What are your monthly fees?')}\")\n",
        "print(\"-\" * 30)\n",
        "\n",
        "print(f\"Пользователь: What kind of food do you serve?\")\n",
        "print(f\"Бот: {rule_based_chatbot('What kind of food do you serve?')}\")\n",
        "print(\"-\" * 30)"
      ],
      "metadata": {
        "colab": {
          "base_uri": "https://localhost:8080/"
        },
        "id": "ATbOHixN12no",
        "outputId": "b4369b6c-646c-40e6-a025-e8ccaf3aaece"
      },
      "execution_count": 11,
      "outputs": [
        {
          "output_type": "stream",
          "name": "stdout",
          "text": [
            "--- Тестирование чат-бота ---\n",
            "Пользователь: What are your opening hours?\n",
            "Бот: We are open from 9 AM to 6 PM, Monday to Friday.\n",
            "------------------------------\n",
            "Пользователь: How much does it cost?\n",
            "Бот: Our pricing starts at $10 per month.\n",
            "------------------------------\n",
            "Пользователь: Tell me a joke\n",
            "Бот: Sorry, I didn't understand that. Can you please rephrase?\n",
            "------------------------------\n",
            "Пользователь: When do you start work?\n",
            "Бот: We are open from 9 AM to 6 PM, Monday to Friday.\n",
            "------------------------------\n",
            "Пользователь: What are your monthly fees?\n",
            "Бот: Our pricing starts at $10 per month.\n",
            "------------------------------\n",
            "Пользователь: What kind of food do you serve?\n",
            "Бот: We serve coffee, tea, pastries, and sandwiches. Would you like to see the full menu?\n",
            "------------------------------\n"
          ]
        }
      ]
    }
  ]
}