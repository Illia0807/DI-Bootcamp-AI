{
  "nbformat": 4,
  "nbformat_minor": 0,
  "metadata": {
    "colab": {
      "provenance": []
    },
    "kernelspec": {
      "name": "python3",
      "display_name": "Python 3"
    },
    "language_info": {
      "name": "python"
    }
  },
  "cells": [
    {
      "cell_type": "code",
      "execution_count": 5,
      "metadata": {
        "colab": {
          "base_uri": "https://localhost:8080/"
        },
        "id": "Aoj-ctZ71VTy",
        "outputId": "26905b60-43b2-4f83-dd44-255d4ceda8ea"
      },
      "outputs": [
        {
          "output_type": "stream",
          "name": "stdout",
          "text": [
            "The dog was jealous.\n"
          ]
        }
      ],
      "source": [
        "from collections import defaultdict, Counter\n",
        "import random\n",
        "\n",
        "# Step 1: Preprocess text and build transition matrix\n",
        "def build_markov_chain(text, n=2):\n",
        "    words = text.split() # Разделяем текст на слова\n",
        "    transitions = defaultdict(Counter) # Создаем словарь для хранения переходов:\n",
        "                                      # ключ - текущее состояние (N-грамма),\n",
        "                                      # значение - счетчик для следующего слова\n",
        "\n",
        "    for i in range(len(words) - n):\n",
        "        current_state = tuple(words[i:i+n]) # Текущее состояние (N-грамма)\n",
        "        next_state = words[i+n]           # Следующее слово после N-граммы\n",
        "        transitions[current_state][next_state] += 1 # Увеличиваем счетчик для этого перехода\n",
        "\n",
        "    # Convert counts to probabilities (преобразуем счетчики в вероятности)\n",
        "    for current_state, next_states_counts in transitions.items():\n",
        "        total = sum(next_states_counts.values()) # Общее количество раз, когда встречалось текущее состояние\n",
        "        for next_state in next_states_counts:\n",
        "            next_states_counts[next_state] /= total # Делим счетчик на общее количество, получаем вероятность\n",
        "\n",
        "    return transitions\n",
        "\n",
        "# Step 2: Generate text using the Markov Chain\n",
        "def generate_text(markov_chain, start_state, length=10):\n",
        "    current_state = start_state # Начинаем с заданного начального состояния\n",
        "    text = list(current_state)  # Инициализируем текст начальным состоянием\n",
        "\n",
        "    for _ in range(length): # Генерируем слова до заданной длины\n",
        "        if current_state not in markov_chain: # Если текущего состояния нет в нашей цепи, останавливаемся\n",
        "            break\n",
        "        # Случайно выбираем следующее слово на основе вероятностей\n",
        "        next_word = random.choices(\n",
        "            list(markov_chain[current_state].keys()), # Возможные следующие слова\n",
        "            list(markov_chain[current_state].values()) # Их вероятности\n",
        "        )[0] # random.choices возвращает список, берем первый элемент\n",
        "        text.append(next_word) # Добавляем слово к тексту\n",
        "        current_state = tuple(text[-n:]) # Обновляем текущее состояние (последние n слов)\n",
        "\n",
        "    return ' '.join(text)\n",
        "\n",
        "# Example usage\n",
        "text = \"The cat sat on the mat. The cat was happy. The dog was jealous.\"\n",
        "n = 2 # Размер N-граммы (биграммы)\n",
        "\n",
        "markov_chain = build_markov_chain(text, n=n)\n",
        "start_state = (\"The\", \"dog\") # Начальное состояние для генерации\n",
        "\n",
        "generated_text = generate_text(markov_chain, start_state, length=10)\n",
        "print(generated_text)"
      ]
    },
    {
      "cell_type": "code",
      "source": [],
      "metadata": {
        "id": "ATbOHixN12no"
      },
      "execution_count": null,
      "outputs": []
    }
  ]
}