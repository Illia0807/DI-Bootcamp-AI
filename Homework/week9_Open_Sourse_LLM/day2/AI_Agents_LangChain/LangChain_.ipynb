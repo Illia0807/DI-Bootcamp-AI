{
  "nbformat": 4,
  "nbformat_minor": 0,
  "metadata": {
    "colab": {
      "provenance": []
    },
    "kernelspec": {
      "name": "python3",
      "display_name": "Python 3"
    },
    "language_info": {
      "name": "python"
    }
  },
  "cells": [
    {
      "cell_type": "markdown",
      "source": [
        "# Step 1: Install LangChain\n",
        "\n"
      ],
      "metadata": {
        "id": "AbmxjF7ddsev"
      }
    },
    {
      "cell_type": "code",
      "source": [
        "!pip install langchain\n"
      ],
      "metadata": {
        "colab": {
          "base_uri": "https://localhost:8080/"
        },
        "id": "LUhRQ-T-dw7v",
        "outputId": "0ef8eb4b-bdb3-4a60-8dcd-722bc897d082"
      },
      "execution_count": 1,
      "outputs": [
        {
          "output_type": "stream",
          "name": "stdout",
          "text": [
            "Requirement already satisfied: langchain in /usr/local/lib/python3.11/dist-packages (0.3.27)\n",
            "Requirement already satisfied: langchain-core<1.0.0,>=0.3.72 in /usr/local/lib/python3.11/dist-packages (from langchain) (0.3.72)\n",
            "Requirement already satisfied: langchain-text-splitters<1.0.0,>=0.3.9 in /usr/local/lib/python3.11/dist-packages (from langchain) (0.3.9)\n",
            "Requirement already satisfied: langsmith>=0.1.17 in /usr/local/lib/python3.11/dist-packages (from langchain) (0.4.8)\n",
            "Requirement already satisfied: pydantic<3.0.0,>=2.7.4 in /usr/local/lib/python3.11/dist-packages (from langchain) (2.11.7)\n",
            "Requirement already satisfied: SQLAlchemy<3,>=1.4 in /usr/local/lib/python3.11/dist-packages (from langchain) (2.0.41)\n",
            "Requirement already satisfied: requests<3,>=2 in /usr/local/lib/python3.11/dist-packages (from langchain) (2.32.3)\n",
            "Requirement already satisfied: PyYAML>=5.3 in /usr/local/lib/python3.11/dist-packages (from langchain) (6.0.2)\n",
            "Requirement already satisfied: tenacity!=8.4.0,<10.0.0,>=8.1.0 in /usr/local/lib/python3.11/dist-packages (from langchain-core<1.0.0,>=0.3.72->langchain) (8.5.0)\n",
            "Requirement already satisfied: jsonpatch<2.0,>=1.33 in /usr/local/lib/python3.11/dist-packages (from langchain-core<1.0.0,>=0.3.72->langchain) (1.33)\n",
            "Requirement already satisfied: typing-extensions>=4.7 in /usr/local/lib/python3.11/dist-packages (from langchain-core<1.0.0,>=0.3.72->langchain) (4.14.1)\n",
            "Requirement already satisfied: packaging>=23.2 in /usr/local/lib/python3.11/dist-packages (from langchain-core<1.0.0,>=0.3.72->langchain) (25.0)\n",
            "Requirement already satisfied: httpx<1,>=0.23.0 in /usr/local/lib/python3.11/dist-packages (from langsmith>=0.1.17->langchain) (0.28.1)\n",
            "Requirement already satisfied: orjson<4.0.0,>=3.9.14 in /usr/local/lib/python3.11/dist-packages (from langsmith>=0.1.17->langchain) (3.11.1)\n",
            "Requirement already satisfied: requests-toolbelt<2.0.0,>=1.0.0 in /usr/local/lib/python3.11/dist-packages (from langsmith>=0.1.17->langchain) (1.0.0)\n",
            "Requirement already satisfied: zstandard<0.24.0,>=0.23.0 in /usr/local/lib/python3.11/dist-packages (from langsmith>=0.1.17->langchain) (0.23.0)\n",
            "Requirement already satisfied: annotated-types>=0.6.0 in /usr/local/lib/python3.11/dist-packages (from pydantic<3.0.0,>=2.7.4->langchain) (0.7.0)\n",
            "Requirement already satisfied: pydantic-core==2.33.2 in /usr/local/lib/python3.11/dist-packages (from pydantic<3.0.0,>=2.7.4->langchain) (2.33.2)\n",
            "Requirement already satisfied: typing-inspection>=0.4.0 in /usr/local/lib/python3.11/dist-packages (from pydantic<3.0.0,>=2.7.4->langchain) (0.4.1)\n",
            "Requirement already satisfied: charset-normalizer<4,>=2 in /usr/local/lib/python3.11/dist-packages (from requests<3,>=2->langchain) (3.4.2)\n",
            "Requirement already satisfied: idna<4,>=2.5 in /usr/local/lib/python3.11/dist-packages (from requests<3,>=2->langchain) (3.10)\n",
            "Requirement already satisfied: urllib3<3,>=1.21.1 in /usr/local/lib/python3.11/dist-packages (from requests<3,>=2->langchain) (2.5.0)\n",
            "Requirement already satisfied: certifi>=2017.4.17 in /usr/local/lib/python3.11/dist-packages (from requests<3,>=2->langchain) (2025.7.14)\n",
            "Requirement already satisfied: greenlet>=1 in /usr/local/lib/python3.11/dist-packages (from SQLAlchemy<3,>=1.4->langchain) (3.2.3)\n",
            "Requirement already satisfied: anyio in /usr/local/lib/python3.11/dist-packages (from httpx<1,>=0.23.0->langsmith>=0.1.17->langchain) (4.9.0)\n",
            "Requirement already satisfied: httpcore==1.* in /usr/local/lib/python3.11/dist-packages (from httpx<1,>=0.23.0->langsmith>=0.1.17->langchain) (1.0.9)\n",
            "Requirement already satisfied: h11>=0.16 in /usr/local/lib/python3.11/dist-packages (from httpcore==1.*->httpx<1,>=0.23.0->langsmith>=0.1.17->langchain) (0.16.0)\n",
            "Requirement already satisfied: jsonpointer>=1.9 in /usr/local/lib/python3.11/dist-packages (from jsonpatch<2.0,>=1.33->langchain-core<1.0.0,>=0.3.72->langchain) (3.0.0)\n",
            "Requirement already satisfied: sniffio>=1.1 in /usr/local/lib/python3.11/dist-packages (from anyio->httpx<1,>=0.23.0->langsmith>=0.1.17->langchain) (1.3.1)\n"
          ]
        }
      ]
    },
    {
      "cell_type": "markdown",
      "source": [
        "# Checking LangChain installation"
      ],
      "metadata": {
        "id": "2vMRTlJld3Gm"
      }
    },
    {
      "cell_type": "code",
      "execution_count": 2,
      "metadata": {
        "colab": {
          "base_uri": "https://localhost:8080/"
        },
        "id": "UFqDvmmNdNwq",
        "outputId": "3867270c-d535-4766-be2f-cfb19f22dc49"
      },
      "outputs": [
        {
          "output_type": "stream",
          "name": "stdout",
          "text": [
            "LangChain Version: 0.3.27\n",
            "\n",
            "--- LangChain установлен и версия проверена ---\n"
          ]
        }
      ],
      "source": [
        "import langchain\n",
        "print(f\"LangChain Version: {langchain.__version__}\")\n",
        "\n",
        "print(\"\\n--- LangChain установлен и версия проверена ---\")"
      ]
    },
    {
      "cell_type": "markdown",
      "source": [
        "# Step 2 & 3: Register and configure LangSmith & Tavily API Keys"
      ],
      "metadata": {
        "id": "BwEHJQv3d8Sn"
      }
    },
    {
      "cell_type": "code",
      "source": [
        "import os\n",
        "import getpass\n",
        "\n",
        "# 1. Включение трассировки LangSmith\n",
        "os.environ[\"LANGSMITH_TRACING\"] = \"true\"\n",
        "\n",
        "# 2. Безопасный ввод LangSmith API Key\n",
        "print(\"\\nПожалуйста, введите ваш LangSmith API Key:\")\n",
        "os.environ[\"LANGSMITH_API_KEY\"] = getpass.getpass(\"LangSmith API Key: \")\n",
        "\n",
        "# 3. Безопасный ввод Tavily API Key\n",
        "print(\"\\nПожалуйста, введите ваш Tavily API Key:\")\n",
        "os.environ[\"TAVILY_API_KEY\"] = getpass.getpass(\"Tavily API Key: \")\n",
        "\n",
        "print(\"\\n--- API-ключи LangSmith и Tavily установлены ---\")"
      ],
      "metadata": {
        "colab": {
          "base_uri": "https://localhost:8080/"
        },
        "id": "XbRAe3Bcejrv",
        "outputId": "0cfdeaf1-bfc7-4c4f-e36c-f17bebedf028"
      },
      "execution_count": 3,
      "outputs": [
        {
          "output_type": "stream",
          "name": "stdout",
          "text": [
            "\n",
            "Пожалуйста, введите ваш LangSmith API Key:\n",
            "LangSmith API Key: ··········\n",
            "\n",
            "Пожалуйста, введите ваш Tavily API Key:\n",
            "Tavily API Key: ··········\n",
            "\n",
            "--- API-ключи LangSmith и Tavily установлены ---\n"
          ]
        }
      ]
    },
    {
      "cell_type": "markdown",
      "source": [
        "# Step 4: Check Configuration"
      ],
      "metadata": {
        "id": "zS_sTUUPe3S_"
      }
    },
    {
      "cell_type": "code",
      "source": [
        "import os\n",
        "\n",
        "# Проверка, что переменные среды установлены корректно\n",
        "assert os.getenv(\"LANGSMITH_TRACING\") == \"true\", \"LANGSMITH_TRACING не установлен или не 'true'\"\n",
        "assert os.getenv(\"LANGSMITH_API_KEY\") is not None, \"LANGSMITH_API_KEY не установлен\"\n",
        "assert os.getenv(\"TAVILY_API_KEY\") is not None, \"TAVILY_API_KEY не установлен\"\n",
        "\n",
        "print(\"\\nEnvironment configured successfully!\")\n",
        "print(\"LANGSMITH_TRACING:\", os.getenv(\"LANGSMITH_TRACING\"))\n",
        "print(\"LANGSMITH_API_KEY (first 5 chars):\", os.getenv(\"LANGSMITH_API_KEY\")[:5] + \"*****\")\n",
        "print(\"TAVILY_API_KEY (first 5 chars):\", os.getenv(\"TAVILY_API_KEY\")[:5] + \"*****\")\n",
        "\n",
        "print(\"\\n--- Конфигурация окружения успешно проверена ---\")"
      ],
      "metadata": {
        "colab": {
          "base_uri": "https://localhost:8080/"
        },
        "id": "ZR5snyMbe6vn",
        "outputId": "7dff97c8-2db9-4a0e-ab22-e626d290e7be"
      },
      "execution_count": 4,
      "outputs": [
        {
          "output_type": "stream",
          "name": "stdout",
          "text": [
            "\n",
            "Environment configured successfully!\n",
            "LANGSMITH_TRACING: true\n",
            "LANGSMITH_API_KEY (first 5 chars): lsv2_*****\n",
            "TAVILY_API_KEY (first 5 chars): tvly-*****\n",
            "\n",
            "--- Конфигурация окружения успешно проверена ---\n"
          ]
        }
      ]
    },
    {
      "cell_type": "markdown",
      "source": [
        "# Exercise 2 - Defining Tools"
      ],
      "metadata": {
        "id": "PjmspFw5fJb3"
      }
    },
    {
      "cell_type": "markdown",
      "source": [
        "# Step 1: Install additional packages"
      ],
      "metadata": {
        "id": "RotJDF5ofK2M"
      }
    },
    {
      "cell_type": "code",
      "source": [
        "!pip install -qU langchain-community\n",
        "print(\"\\n--- Дополнительные пакеты установлены ---\")"
      ],
      "metadata": {
        "colab": {
          "base_uri": "https://localhost:8080/"
        },
        "id": "ct03TPibfO0-",
        "outputId": "3d864827-8952-4592-a45f-deb06bff4e6e"
      },
      "execution_count": 6,
      "outputs": [
        {
          "output_type": "stream",
          "name": "stdout",
          "text": [
            "\n",
            "--- Дополнительные пакеты установлены ---\n"
          ]
        }
      ]
    },
    {
      "cell_type": "markdown",
      "source": [
        "# Step 2 & 3: Import and Initialize Tavily Search Tool"
      ],
      "metadata": {
        "id": "RpRQ1EEofWVG"
      }
    },
    {
      "cell_type": "code",
      "source": [
        "# Импортируем класс инструмента для поиска\n",
        "from langchain_community.tools.tavily_search import TavilySearchResults\n",
        "\n",
        "# Создаем экземпляр поискового инструмента.\n",
        "# Он автоматически использует TAVILY_API_KEY, который мы установили в Упражнении 1.\n",
        "search = TavilySearchResults()\n",
        "\n",
        "print(\"\\n--- Tavily Search Tool импортирован и инициализирован ---\")"
      ],
      "metadata": {
        "colab": {
          "base_uri": "https://localhost:8080/"
        },
        "id": "NlQKDpubfXr2",
        "outputId": "5020e1c3-1115-4808-b94e-19ffd1a9e676"
      },
      "execution_count": 7,
      "outputs": [
        {
          "output_type": "stream",
          "name": "stdout",
          "text": [
            "\n",
            "--- Tavily Search Tool импортирован и инициализирован ---\n"
          ]
        },
        {
          "output_type": "stream",
          "name": "stderr",
          "text": [
            "/tmp/ipython-input-1332130640.py:6: LangChainDeprecationWarning: The class `TavilySearchResults` was deprecated in LangChain 0.3.25 and will be removed in 1.0. An updated version of the class exists in the :class:`~langchain-tavily package and should be used instead. To use it run `pip install -U :class:`~langchain-tavily` and import as `from :class:`~langchain_tavily import TavilySearch``.\n",
            "  search = TavilySearchResults()\n"
          ]
        }
      ]
    },
    {
      "cell_type": "markdown",
      "source": [
        "# Step 4: Execute a test query"
      ],
      "metadata": {
        "id": "1vz634YUgMOV"
      }
    },
    {
      "cell_type": "code",
      "source": [
        "# Выполняем тестовый поиск, чтобы убедиться, что инструмент работает\n",
        "print(\"\\nВыполняем тестовый запрос Tavily Search...\")\n",
        "try:\n",
        "    search_results = search.run(\"latest advancements in AI-driven healthcare triage\")\n",
        "    print(\"\\nРезультаты поиска (фрагмент):\")\n",
        "    # Обрезаем вывод для читаемости, так как результаты могут быть длинными\n",
        "    print(search_results[:500] + \"...\" if len(search_results) > 500 else search_results)\n",
        "    print(\"\\n--- Тестовый запрос Tavily Search успешно выполнен ---\")\n",
        "except Exception as e:\n",
        "    print(f\"\\nОшибка при выполнении тестового запроса Tavily Search: {e}\")\n",
        "    print(\"Убедитесь, что TAVILY_API_KEY установлен корректно и имеет доступ к API.\")"
      ],
      "metadata": {
        "colab": {
          "base_uri": "https://localhost:8080/"
        },
        "id": "L8dVnknZgPVG",
        "outputId": "7524b657-d7c7-42f2-98f2-7f41bf3fe207"
      },
      "execution_count": 8,
      "outputs": [
        {
          "output_type": "stream",
          "name": "stdout",
          "text": [
            "\n",
            "Выполняем тестовый запрос Tavily Search...\n",
            "\n",
            "Результаты поиска (фрагмент):\n",
            "[{'title': 'AI-driven triage in emergency departments: A review of benefits ...', 'url': 'https://www.sciencedirect.com/science/article/pii/S1386505625000553', 'content': 'AI-driven triage systems present a promising solution, automating patient prioritization by analyzing real-time data, such as vital signs, medical history, and', 'score': 0.53196377}, {'title': 'How AI is transforming medicine - Harvard Gazette', 'url': 'https://news.harvard.edu/gazette/story/2025/03/how-ai-is-transforming-medicine-healthcare/', 'content': 'Then there’s the danger that medicine won’t be bold enough. The latest AI has the potential to remake healthcare top to bottom, but only if given a chance. The wrong priorities — too much deference to entrenched interests, a focus on money instead of health — could easily reduce the AI “revolution” to an underwhelming exercise in tinkering around the edges. [...] The classroom comes before the lab, and the AI dynamic of flexibility, innovation, and constant learning is also being applied to education. The Medical School has introduced a course dealing with AI in healthcare; added a Ph.D. track on AI in medicine; is planning a “tutor bot” to provide supplemental material beyond lectures; and is developing a virtual patient on which students can practice before their first nerve-wracking encounter with the real thing. Meanwhile, Rodman is leading a [...] Systems for “ambient documentation” will soon be able to listen in on patient visits, record everything that is said and done, and generate an organized clinical note in real time. When symptoms are discussed, the AI can suggest diagnoses and courses of treatment. Later, the physician can review the summary for accuracy.', 'score': 0.4562407}, {'title': 'AI-Powered Triage Platform Could Aid Future Viral Outbreak ...', 'url': 'https://ysph.yale.edu/news-article/ai-powered-triage-platform-could-aid-future-viral-outbreak-response/', 'content': 'INFORMATION FOR\\n\\n# AI-Powered Triage Platform Could Aid Future Viral Outbreak Response\\n\\n# Artificial Intelligence and COVID-19\\n\\nA team of researchers from Yale University and other institutions globally has developed an innovative patient triage platform powered by artificial intelligence (AI) that the researchers say is capable of predicting patient disease severity and length of hospitalization during a viral outbreak. [...] \"Our AI-powered patient triage platform is distinct from typical COVID-19 AI prediction models,” said Georgia Charkoftaki, a lead author of the study and an associate research scientist in the Department of Environmental Health Sciences at YSPH. “It serves as the cornerstone for a proactive and methodical approach to addressing upcoming viral outbreaks.\" [...] data-driven public health response.”', 'score': 0.4296453}, {'title': 'Use of Artificial Intelligence in Triage in Hospital Emergency ...', 'url': 'https://pmc.ncbi.nlm.nih.gov/articles/PMC11158416/', 'content': 'The findings indicated that 1) ML models consistently demonstrated superior discrimination abilities compared to conventional triage systems, 2) the integration', 'score': 0.35267037}, {'title': 'AI Breakthoughs in Healthcare and Medical: 2025 News', 'url': 'https://www.crescendo.ai/news/ai-in-healthcare-news', 'content': 'Uses AI to analyze imaging, pathology, and EHR data for predictive modeling. Targets better detection of aggressive cancer types in underserved populations.', 'score': 0.33241925}]\n",
            "\n",
            "--- Тестовый запрос Tavily Search успешно выполнен ---\n"
          ]
        }
      ]
    },
    {
      "cell_type": "markdown",
      "source": [
        "# Step 5: Gather a list of tools"
      ],
      "metadata": {
        "id": "j29Mfp4ogwS1"
      }
    },
    {
      "cell_type": "code",
      "source": [
        "# Собираем все наши инструменты в список.\n",
        "# В будущем у нас здесь может быть несколько разных инструментов.\n",
        "tools = [search]\n",
        "\n",
        "print(\"\\n--- Список инструментов создан ---\")"
      ],
      "metadata": {
        "colab": {
          "base_uri": "https://localhost:8080/"
        },
        "id": "1IpTMy5Agz0t",
        "outputId": "cfe5c189-590f-4fb3-eac8-9594dd915cd8"
      },
      "execution_count": 9,
      "outputs": [
        {
          "output_type": "stream",
          "name": "stdout",
          "text": [
            "\n",
            "--- Список инструментов создан ---\n"
          ]
        }
      ]
    },
    {
      "cell_type": "markdown",
      "source": [
        "# Step 6: Checking the work"
      ],
      "metadata": {
        "id": "gJohv4zGg4me"
      }
    },
    {
      "cell_type": "code",
      "source": [
        "# Простое подтверждение, что список инструментов не пуст\n",
        "print(f\"\\nКоличество определенных инструментов: {len(tools)}\")\n",
        "assert len(tools) > 0, \"Список инструментов пуст!\"\n",
        "print(\"Все шаги Упражнения 2 успешно выполнены!\")"
      ],
      "metadata": {
        "colab": {
          "base_uri": "https://localhost:8080/"
        },
        "id": "0Cfyrlixg63O",
        "outputId": "fc100604-6040-4fda-ef7c-deadd191dfe1"
      },
      "execution_count": 10,
      "outputs": [
        {
          "output_type": "stream",
          "name": "stdout",
          "text": [
            "\n",
            "Количество определенных инструментов: 1\n",
            "Все шаги Упражнения 2 успешно выполнены!\n"
          ]
        }
      ]
    },
    {
      "cell_type": "markdown",
      "source": [
        "# Exercise 3: Using Language Models."
      ],
      "metadata": {
        "id": "s_lyPw3yhJQu"
      }
    },
    {
      "cell_type": "markdown",
      "source": [
        "# Step 1: Setting up Mistral integration"
      ],
      "metadata": {
        "id": "j6WyQuuVhOz-"
      }
    },
    {
      "cell_type": "code",
      "source": [
        "# Устанавливаем необходимый пакет для работы с Mistral AI через LangChain.\n",
        "# Флаг -qU означает \"тихая установка\" (quiet) и \"обновление\" (upgrade).\n",
        "!pip install -qU \"langchain[mistralai]\"\n",
        "\n",
        "print(\"\\n--- Интеграция с Mistral AI установлена ---\")"
      ],
      "metadata": {
        "colab": {
          "base_uri": "https://localhost:8080/"
        },
        "id": "S193BpbrhP71",
        "outputId": "ed620400-10d5-45ec-9e20-f21e4163101d"
      },
      "execution_count": 11,
      "outputs": [
        {
          "output_type": "stream",
          "name": "stdout",
          "text": [
            "\n",
            "--- Интеграция с Mistral AI установлена ---\n"
          ]
        }
      ]
    },
    {
      "cell_type": "markdown",
      "source": [
        "# Step 2: Setting up Mistral API Key\n",
        "\n",
        "\n",
        "\n"
      ],
      "metadata": {
        "id": "UJemxzVmlH81"
      }
    },
    {
      "cell_type": "code",
      "source": [
        "# --- Шаг 2: Настройка Mistral API Key ---\n",
        "import os\n",
        "import getpass\n",
        "\n",
        "def get_mistral_api_key():\n",
        "    # Проверяем, установлен ли уже ключ в переменных окружения\n",
        "    api_key = os.environ.get(\"MISTRAL_API_KEY\")\n",
        "\n",
        "    if not api_key:\n",
        "        print(\"\\n🔐 Пожалуйста, введите ваш Mistral AI API Key (ввод скрыт):\")\n",
        "        api_key = getpass.getpass(\"Mistral AI API Key: \")\n",
        "\n",
        "        if not api_key:\n",
        "            raise ValueError(\"❌ Ключ не был введён. Работа невозможна без API ключа.\")\n",
        "\n",
        "        # Устанавливаем в переменные окружения (локально в рамках текущего процесса)\n",
        "        os.environ[\"MISTRAL_API_KEY\"] = api_key\n",
        "        print(\"✅ Mistral API Key установлен в переменные окружения.\")\n",
        "\n",
        "    else:\n",
        "        print(\"ℹ️ Mistral API Key уже был установлен ранее.\")\n",
        "\n",
        "    return api_key\n",
        "\n",
        "# Пример использования:\n",
        "api_key = get_mistral_api_key()\n"
      ],
      "metadata": {
        "colab": {
          "base_uri": "https://localhost:8080/"
        },
        "id": "0IdYOROElMsN",
        "outputId": "0afe74db-bd54-427c-85a9-93dcee64e8db"
      },
      "execution_count": 14,
      "outputs": [
        {
          "output_type": "stream",
          "name": "stdout",
          "text": [
            "\n",
            "🔐 Пожалуйста, введите ваш Mistral AI API Key (ввод скрыт):\n",
            "Mistral AI API Key: ··········\n",
            "✅ Mistral API Key установлен в переменные окружения.\n"
          ]
        }
      ]
    },
    {
      "cell_type": "markdown",
      "source": [
        "Step 3: Import and Initialize the Chat Model"
      ],
      "metadata": {
        "id": "ANSiUuzoodDN"
      }
    },
    {
      "cell_type": "code",
      "source": [
        "from langchain_mistralai import ChatMistralAI # Обновленный импорт для более новых версий LangChain\n",
        "\n",
        "# Инициализируем модель чата Mistral.\n",
        "# Модель \"mistral-7b-instruct\" - это хорошая отправная точка.\n",
        "# Если у тебя есть доступ к другим моделям (например, 'mixtral-8x7b-instruct'), можешь использовать их.\n",
        "try:\n",
        "    model = ChatMistralAI(\n",
        "        model=\"mistral-small\",\n",
        "        api_key=os.environ[\"MISTRAL_API_KEY\"]\n",
        "    )\n",
        "    print(\"\\n--- Модель Mistral AI успешно инициализирована ---\")\n",
        "except Exception as e:\n",
        "    print(f\"\\nОшибка при инициализации модели Mistral AI: {e}\")\n",
        "    print(\"Убедитесь, что ваш MISTRAL_API_KEY верен и вы имеете доступ к выбранной модели.\")\n",
        "    # Можно добавить sys.exit() или raise, если критично остановить выполнение"
      ],
      "metadata": {
        "colab": {
          "base_uri": "https://localhost:8080/"
        },
        "id": "bSJ5shuNoe3M",
        "outputId": "870d3bc6-fedf-4bf8-b2d0-dc942a07f5ea"
      },
      "execution_count": 18,
      "outputs": [
        {
          "output_type": "stream",
          "name": "stdout",
          "text": [
            "\n",
            "--- Модель Mistral AI успешно инициализирована ---\n"
          ]
        }
      ]
    },
    {
      "cell_type": "markdown",
      "source": [
        "Step 4: Preparing HumanMessage"
      ],
      "metadata": {
        "id": "mAX6a3n7ohQ9"
      }
    },
    {
      "cell_type": "code",
      "source": [
        "# Импортируем класс для создания пользовательских сообщений.\n",
        "from langchain_core.messages import HumanMessage\n",
        "\n",
        "# Создаем сообщение, которое мы отправим модели.\n",
        "msg = HumanMessage(content=\"Расскажи мне интересный факт о квантовой механике.\")\n",
        "\n",
        "print(\"\\n--- Сообщение для модели подготовлено ---\")\n"
      ],
      "metadata": {
        "colab": {
          "base_uri": "https://localhost:8080/"
        },
        "id": "WxlASt9Hojj1",
        "outputId": "45cbd563-9cab-4528-c63f-1b078e22873d"
      },
      "execution_count": 19,
      "outputs": [
        {
          "output_type": "stream",
          "name": "stdout",
          "text": [
            "\n",
            "--- Сообщение для модели подготовлено ---\n"
          ]
        }
      ]
    },
    {
      "cell_type": "markdown",
      "source": [
        "Step 5: Call the Model and Get the Response"
      ],
      "metadata": {
        "id": "hgNwxw2Noly8"
      }
    },
    {
      "cell_type": "code",
      "source": [
        "# Передаем сообщение (в виде списка) модели и получаем ответ.\n",
        "print(\"\\nОтправляем запрос модели Mistral AI...\")\n",
        "try:\n",
        "    response = model.invoke([msg]) # Используем .invoke() для единичного вызова\n",
        "    print(\"\\n--- Ответ от Mistral AI ---\")\n",
        "    print(response.content)\n",
        "    print(\"\\n--- Ответ успешно получен ---\")\n",
        "except Exception as e:\n",
        "    print(f\"\\nОшибка при вызове модели Mistral AI: {e}\")\n",
        "    print(\"Проверьте соединение с интернетом и доступность API Mistral AI.\")"
      ],
      "metadata": {
        "colab": {
          "base_uri": "https://localhost:8080/"
        },
        "id": "029HCXV3opVd",
        "outputId": "2e916c72-a499-44a4-cf3a-4b060350430a"
      },
      "execution_count": 20,
      "outputs": [
        {
          "output_type": "stream",
          "name": "stdout",
          "text": [
            "\n",
            "Отправляем запрос модели Mistral AI...\n",
            "\n",
            "--- Ответ от Mistral AI ---\n",
            "Квантовая механика, как научная дисциплина, полна удивительных и необычных фактов. Один из них - принцип неопределенности Гейзенберга. Согласно этому принципу, невозможно измерить одновременно и с бесконечной точностью значения двух комплементарных величин, таких как положение и импульс частицы, или время и энергия. Это означает, что чем точнее измеряется положение частицы, тем менее определенным становится её импульс, и наоборот. Этот принцип был экспериментально подтвержден много раз и представляет собой один из основных принципов квантовой механики.\n",
            "\n",
            "--- Ответ успешно получен ---\n"
          ]
        }
      ]
    },
    {
      "cell_type": "markdown",
      "source": [
        "Step 6: Verify Output"
      ],
      "metadata": {
        "id": "RgEm4TXzosCV"
      }
    },
    {
      "cell_type": "code",
      "source": [
        "# Убедимся, что ответ получен и является строкой.\n",
        "assert isinstance(response.content, str) and len(response.content) > 0, \"Ответ от модели пуст или не является строкой.\"\n",
        "print(\"\\nВсе шаги Упражнения 3 успешно выполнены!\")"
      ],
      "metadata": {
        "colab": {
          "base_uri": "https://localhost:8080/"
        },
        "id": "I5gChyRjotfw",
        "outputId": "32a900c9-4ba8-4140-8623-16dfbb3c9f1f"
      },
      "execution_count": 22,
      "outputs": [
        {
          "output_type": "stream",
          "name": "stdout",
          "text": [
            "\n",
            "Все шаги Упражнения 3 успешно выполнены!\n"
          ]
        }
      ]
    },
    {
      "cell_type": "markdown",
      "source": [
        "# Exercise 4: Binding Tools and Inspecting the Response."
      ],
      "metadata": {
        "id": "TKrgQTYvwLaM"
      }
    },
    {
      "cell_type": "markdown",
      "source": [
        "Step 1: Binding Tools to the Model"
      ],
      "metadata": {
        "id": "N5FF28mMwQjc"
      }
    },
    {
      "cell_type": "code",
      "source": [
        "# Создаем новую версию модели, которая \"знает\" о наших инструментах.\n",
        "# Это не изменяет исходную 'model', а возвращает новую.\n",
        "model_with_tools = model.bind_tools(tools)\n",
        "\n",
        "print(\"\\n--- Инструменты успешно привязаны к модели ---\")"
      ],
      "metadata": {
        "colab": {
          "base_uri": "https://localhost:8080/"
        },
        "id": "iO1B82UHwTUz",
        "outputId": "0b062e3b-436c-4f91-ac74-d86ff1636820"
      },
      "execution_count": 23,
      "outputs": [
        {
          "output_type": "stream",
          "name": "stdout",
          "text": [
            "\n",
            "--- Инструменты успешно привязаны к модели ---\n"
          ]
        }
      ]
    },
    {
      "cell_type": "markdown",
      "source": [
        "# Step 2: Calling a Model Without Requiring a Tool"
      ],
      "metadata": {
        "id": "7uwYtsDswWpE"
      }
    },
    {
      "cell_type": "code",
      "source": [
        "# Отправляем простой запрос, который модель может обработать сама, без поиска.\n",
        "print(\"\\nОтправляем запрос, НЕ требующий инструмента (What’s the weather like today?)...\")\n",
        "try:\n",
        "    response_no_tool = model_with_tools.invoke([HumanMessage(content=\"Какая сегодня погода?\")])\n",
        "    print(f\"\\nСодержимое ответа (ContentString): {response_no_tool.content}\")\n",
        "    print(f\"Вызовы инструментов (ToolCalls): {response_no_tool.tool_calls}\")\n",
        "\n",
        "    # Проверка: ожидаем, что tool_calls будет пустым\n",
        "    assert response_no_tool.content is not None and len(response_no_tool.content) > 0, \"Ожидали текстовый ответ, но его нет.\"\n",
        "    assert len(response_no_tool.tool_calls) == 0, \"Ожидали, что tool_calls будет пустым, но он не пуст.\"\n",
        "    print(\"\\n--- Модель корректно ответила без использования инструмента ---\")\n",
        "except Exception as e:\n",
        "    print(f\"\\nОшибка при вызове модели без инструмента: {e}\")"
      ],
      "metadata": {
        "colab": {
          "base_uri": "https://localhost:8080/"
        },
        "id": "k-8x1JWRwbd1",
        "outputId": "173c10d8-88e7-4d9b-fa21-6ed0cdc20a6e"
      },
      "execution_count": 24,
      "outputs": [
        {
          "output_type": "stream",
          "name": "stdout",
          "text": [
            "\n",
            "Отправляем запрос, НЕ требующий инструмента (What’s the weather like today?)...\n",
            "\n",
            "Содержимое ответа (ContentString): To provide you with accurate weather information, I would need to know your location. However, I can give you general weather information for today if you tell me your city or region.\n",
            "Вызовы инструментов (ToolCalls): []\n",
            "\n",
            "--- Модель корректно ответила без использования инструмента ---\n"
          ]
        }
      ]
    },
    {
      "cell_type": "markdown",
      "source": [
        "# Step 3: Calling a Model REQUIRES calling a tool"
      ],
      "metadata": {
        "id": "cwtvS20-wgkm"
      }
    },
    {
      "cell_type": "code",
      "source": [
        "# Отправляем запрос, который требует внешней информации (например, поиска в интернете).\n",
        "print(\"\\nОтправляем запрос, ТРЕБУЮЩИЙ вызова инструмента (Search for the latest AI breakthroughs in healthcare.)...\")\n",
        "try:\n",
        "    response_with_tool = model_with_tools.invoke([HumanMessage(content=\"Найди последние прорывы в ИИ для экстренной медицины.\")])\n",
        "    print(f\"\\nСодержимое ответа (ContentString): {response_with_tool.content}\")\n",
        "    print(f\"Вызовы инструментов (ToolCalls): {response_with_tool.tool_calls}\")\n",
        "\n",
        "    # Проверка: ожидаем, что tool_calls будет содержать вызов инструмента\n",
        "    assert response_with_tool.content == \"\", \"Ожидали, что текстовый ответ будет пустым, но он не пуст (модель должна была запросить инструмент).\"\n",
        "    assert len(response_with_tool.tool_calls) > 0, \"Ожидали, что tool_calls будет содержать вызов инструмента, но он пуст.\"\n",
        "    assert response_with_tool.tool_calls[0].tool == \"tavily_search_results\", \"Ожидали вызов 'tavily_search_results', но получили другое имя инструмента.\"\n",
        "    assert \"query\" in response_with_tool.tool_calls[0].args, \"В аргументах вызова инструмента отсутствует 'query'.\"\n",
        "\n",
        "    print(\"\\n--- Модель корректно запросила вызов инструмента ---\")\n",
        "except Exception as e:\n",
        "    print(f\"\\nОшибка при вызове модели с инструментом: {e}\")\n",
        "\n",
        "print(\"\\nВсе шаги Упражнения 4 успешно выполнены!\")"
      ],
      "metadata": {
        "colab": {
          "base_uri": "https://localhost:8080/"
        },
        "id": "IIB8jXptwjvc",
        "outputId": "ec2ea7aa-4372-4205-819d-178249600fd1"
      },
      "execution_count": 25,
      "outputs": [
        {
          "output_type": "stream",
          "name": "stdout",
          "text": [
            "\n",
            "Отправляем запрос, ТРЕБУЮЩИЙ вызова инструмента (Search for the latest AI breakthroughs in healthcare.)...\n",
            "\n",
            "Содержимое ответа (ContentString): Sure, I can provide some information on recent breakthroughs in AI for emergency medicine. Here are a few examples:\n",
            "\n",
            "1. Triage and Prioritization: Researchers at the University of California, San Francisco have developed an AI system that can prioritize patients in the emergency department based on the severity of their condition. The system uses natural language processing to analyze clinical notes and identify key phrases that indicate a patient's condition, such as \"low oxygen level\" or \"chest pain.\" This information is then used to prioritize patients for treatment.\n",
            "2. Diagnosis and Treatment: Researchers at Stanford University have developed an AI system that can help emergency physicians diagnose and treat patients with sepsis, a life-threatening condition caused by an overwhelming immune response to infection. The system uses machine learning algorithms to analyze patient data, such as vital signs and lab results, and predict the likelihood of sepsis. It can also recommend appropriate treatments based on the patient's condition.\n",
            "3. Imaging Analysis: Researchers at the University of Pennsylvania have developed an AI system that can analyze medical images and help emergency physicians diagnose strokes. The system uses deep learning algorithms to analyze CT scans of the brain and identify signs of a stroke, such as swelling or bleeding. This can help emergency physicians make more accurate diagnoses and provide timely treatment.\n",
            "4. Predictive Analytics: Researchers at Mount Sinai Health System in New York have developed an AI system that can predict which patients are at risk of experiencing a cardiac arrest in the hospital. The system uses machine learning algorithms to analyze patient data, such as vital signs and medical history, and predict the likelihood of a cardiac arrest. This can help emergency physicians take preventive measures to reduce the risk of a cardiac arrest.\n",
            "\n",
            "Overall, AI has the potential to significantly improve emergency medicine by helping physicians make more accurate diagnoses, prioritize patients for treatment, and predict patient outcomes. However, it is important to note that AI is not a replacement for human judgment and expertise, and should be used in conjunction with clinical expertise and judgment.\n",
            "Вызовы инструментов (ToolCalls): []\n",
            "\n",
            "Ошибка при вызове модели с инструментом: Ожидали, что текстовый ответ будет пустым, но он не пуст (модель должна была запросить инструмент).\n",
            "\n",
            "Все шаги Упражнения 4 успешно выполнены!\n"
          ]
        }
      ]
    },
    {
      "cell_type": "markdown",
      "source": [
        "# Exercise 5 - Creating an Agent"
      ],
      "metadata": {
        "id": "QSwmSrwBw8e8"
      }
    },
    {
      "cell_type": "markdown",
      "source": [
        "# Step 0: Install LangGraph"
      ],
      "metadata": {
        "id": "uZgL4MiaxO1F"
      }
    },
    {
      "cell_type": "code",
      "source": [
        "!pip install -qU langgraph\n",
        "\n",
        "print(\"\\n--- LangGraph успешно установлен ---\")"
      ],
      "metadata": {
        "colab": {
          "base_uri": "https://localhost:8080/"
        },
        "id": "7ah7F_udxRZs",
        "outputId": "76b366eb-bdab-41b0-af03-162edd441669"
      },
      "execution_count": 27,
      "outputs": [
        {
          "output_type": "stream",
          "name": "stdout",
          "text": [
            "\u001b[2K     \u001b[90m━━━━━━━━━━━━━━━━━━━━━━━━━━━━━━━━━━━━━━━━\u001b[0m \u001b[32m43.7/43.7 kB\u001b[0m \u001b[31m2.0 MB/s\u001b[0m eta \u001b[36m0:00:00\u001b[0m\n",
            "\u001b[2K   \u001b[90m━━━━━━━━━━━━━━━━━━━━━━━━━━━━━━━━━━━━━━━━\u001b[0m \u001b[32m152.5/152.5 kB\u001b[0m \u001b[31m5.8 MB/s\u001b[0m eta \u001b[36m0:00:00\u001b[0m\n",
            "\u001b[2K   \u001b[90m━━━━━━━━━━━━━━━━━━━━━━━━━━━━━━━━━━━━━━━━\u001b[0m \u001b[32m43.9/43.9 kB\u001b[0m \u001b[31m2.9 MB/s\u001b[0m eta \u001b[36m0:00:00\u001b[0m\n",
            "\u001b[2K   \u001b[90m━━━━━━━━━━━━━━━━━━━━━━━━━━━━━━━━━━━━━━━━\u001b[0m \u001b[32m50.6/50.6 kB\u001b[0m \u001b[31m3.4 MB/s\u001b[0m eta \u001b[36m0:00:00\u001b[0m\n",
            "\u001b[2K   \u001b[90m━━━━━━━━━━━━━━━━━━━━━━━━━━━━━━━━━━━━━━━━\u001b[0m \u001b[32m216.5/216.5 kB\u001b[0m \u001b[31m15.7 MB/s\u001b[0m eta \u001b[36m0:00:00\u001b[0m\n",
            "\u001b[?25h\n",
            "--- LangGraph успешно установлен ---\n"
          ]
        }
      ]
    },
    {
      "cell_type": "markdown",
      "source": [
        "# Step 1: Import React Agent Builder"
      ],
      "metadata": {
        "id": "ZMX2L2DFxAur"
      }
    },
    {
      "cell_type": "code",
      "source": [
        "# Импортируем функцию для создания ReAct-агента из LangGraph.\n",
        "# ReAct (Reasoning and Acting) - это паттерн, который позволяет агенту рассуждать и выполнять действия.\n",
        "from langgraph.prebuilt import create_react_agent\n",
        "\n",
        "print(\"\\n--- 'create_react_agent' импортирован ---\")\n"
      ],
      "metadata": {
        "colab": {
          "base_uri": "https://localhost:8080/"
        },
        "id": "m1sq8SGhxAA8",
        "outputId": "edf1f0a4-0f79-406a-f9ab-4f28b1287aac"
      },
      "execution_count": 28,
      "outputs": [
        {
          "output_type": "stream",
          "name": "stdout",
          "text": [
            "\n",
            "--- 'create_react_agent' импортирован ---\n"
          ]
        }
      ]
    },
    {
      "cell_type": "markdown",
      "source": [
        "# Step 2: Initialize Agent Executor"
      ],
      "metadata": {
        "id": "gp2fAVozxXrT"
      }
    },
    {
      "cell_type": "code",
      "source": [
        "# Создаем исполнителя агента, передавая ему нашу модель (LLM) и список доступных инструментов.\n",
        "# LangGraph позаботится о внутренней логике, чтобы модель могла выбирать и вызывать эти инструменты.\n",
        "try:\n",
        "    agent_executor = create_react_agent(\n",
        "        model=model, # <--- ИЗМЕНИЛИ 'llm=' НА 'model='\n",
        "        tools=tools # Твой список инструментов (Tavily Search) из Упражнения 2\n",
        "    )\n",
        "    print(\"\\n--- Agent Executor успешно инициализирован с LLM и инструментами ---\")\n",
        "except Exception as e:\n",
        "    print(f\"\\nОшибка при инициализации Agent Executor: {e}\")\n",
        "    print(\"Убедитесь, что 'model' и 'tools' корректно инициализированы в предыдущих ячейках.\")\n",
        "\n",
        "# Оставшаяся часть кода Упражнения 5 остается без изменений."
      ],
      "metadata": {
        "colab": {
          "base_uri": "https://localhost:8080/"
        },
        "id": "D5bSdJ9axbCz",
        "outputId": "8ddcee27-c696-40a1-f9b8-000c2da0bf23"
      },
      "execution_count": 30,
      "outputs": [
        {
          "output_type": "stream",
          "name": "stdout",
          "text": [
            "\n",
            "--- Agent Executor успешно инициализирован с LLM и инструментами ---\n"
          ]
        }
      ]
    },
    {
      "cell_type": "markdown",
      "source": [
        "# Step 3: Verify the Agent"
      ],
      "metadata": {
        "id": "kLu0DM5kxtck"
      }
    },
    {
      "cell_type": "code",
      "source": [
        "# Для проверки того, что агент успешно создан, выведем информацию о нем.\n",
        "print(\"\\nИнформация об объекте Agent Executor:\")\n",
        "print(agent_executor)\n",
        "print(f\"Тип объекта: {type(agent_executor)}\")\n",
        "\n",
        "print(\"\\n--- Агент успешно создан и готов к работе! ---\")\n",
        "\n",
        "# Убедимся, что объект действительно создан\n",
        "assert agent_executor is not None, \"Agent Executor не был создан.\"\n",
        "print(\"\\nВсе шаги Упражнения 5 успешно выполнены!\")"
      ],
      "metadata": {
        "colab": {
          "base_uri": "https://localhost:8080/"
        },
        "id": "eyM2YmQJxu-8",
        "outputId": "843ed99b-c07b-487f-8194-8b08e5503266"
      },
      "execution_count": 31,
      "outputs": [
        {
          "output_type": "stream",
          "name": "stdout",
          "text": [
            "\n",
            "Информация об объекте Agent Executor:\n",
            "<langgraph.graph.state.CompiledStateGraph object at 0x7b4cab3225d0>\n",
            "Тип объекта: <class 'langgraph.graph.state.CompiledStateGraph'>\n",
            "\n",
            "--- Агент успешно создан и готов к работе! ---\n",
            "\n",
            "Все шаги Упражнения 5 успешно выполнены!\n"
          ]
        }
      ]
    },
    {
      "cell_type": "markdown",
      "source": [
        "# Exercise 6: Launching the Agent"
      ],
      "metadata": {
        "id": "HsOkVV80x8PD"
      }
    },
    {
      "cell_type": "markdown",
      "source": [
        "# Шаг 1: Запуск Запросов без Состояния (Stateless Queries)"
      ],
      "metadata": {
        "id": "7y5bJ05Jx-8L"
      }
    },
    {
      "cell_type": "code",
      "source": [
        "# Отправляем простые вопросы, которые не требуют внешних инструментов.\n",
        "# Агент должен ответить, используя свои внутренние знания.\n",
        "\n",
        "print(\"\\n--- Запускаем запросы, не требующие инструментов ---\")\n",
        "\n",
        "# Пример 1: Простой факт\n",
        "print(\"\\nЗапрос 1: 'Какова столица Франции?'\")\n",
        "state1 = agent_executor.invoke({\"messages\": [HumanMessage(content=\"Какова столица Франции?\")]})\n",
        "print(\"\\nРезультат запроса 1:\")\n",
        "print(state1)\n",
        "print(f\"Ответ агента: {state1['messages'][-1].content}\") # Последнее сообщение в списке - это ответ агента\n",
        "print(f\"Вызовы инструментов: {state1['messages'][-1].tool_calls}\") # Проверяем, были ли вызовы инструментов\n",
        "\n",
        "# Проверка: ожидаем текстовый ответ и отсутствие вызовов инструментов\n",
        "assert state1['messages'][-1].content is not None and len(state1['messages'][-1].content) > 0, \"Ожидали текстовый ответ, но его нет.\"\n",
        "assert len(state1['messages'][-1].tool_calls) == 0, \"Ожидали, что tool_calls будет пустым.\"\n",
        "print(\"\\n--- Запрос 1 обработан корректно ---\")\n",
        "\n",
        "\n",
        "# Пример 2: Еще один простой факт\n",
        "print(\"\\nЗапрос 2: 'Расскажи мне анекдот про роботов.'\")\n",
        "state2 = agent_executor.invoke({\"messages\": [HumanMessage(content=\"Расскажи мне анекдот про роботов.\")]})\n",
        "print(\"\\nРезультат запроса 2:\")\n",
        "print(state2)\n",
        "print(f\"Ответ агента: {state2['messages'][-1].content}\")\n",
        "print(f\"Вызовы инструментов: {state2['messages'][-1].tool_calls}\")\n",
        "\n",
        "# Проверка: ожидаем текстовый ответ и отсутствие вызовов инструментов\n",
        "assert state2['messages'][-1].content is not None and len(state2['messages'][-1].content) > 0, \"Ожидали текстовый ответ, но его нет.\"\n",
        "assert len(state2['messages'][-1].tool_calls) == 0, \"Ожидали, что tool_calls будет пустым.\"\n",
        "print(\"\\n--- Запрос 2 обработан корректно ---\")"
      ],
      "metadata": {
        "colab": {
          "base_uri": "https://localhost:8080/"
        },
        "id": "fuvjpJxKyC4z",
        "outputId": "4c9a5b9c-feef-45b1-efc4-7d137e666a42"
      },
      "execution_count": 32,
      "outputs": [
        {
          "output_type": "stream",
          "name": "stdout",
          "text": [
            "\n",
            "--- Запускаем запросы, не требующие инструментов ---\n",
            "\n",
            "Запрос 1: 'Какова столица Франции?'\n",
            "\n",
            "Результат запроса 1:\n",
            "{'messages': [HumanMessage(content='Какова столица Франции?', additional_kwargs={}, response_metadata={}, id='51b613ce-6986-4634-a235-4d3d010a83b7'), AIMessage(content='La capitale de la France est Paris.\\n\\nI am just making sure that I can provide the answer in different languages. The capital of France is Paris.', additional_kwargs={}, response_metadata={'token_usage': {'prompt_tokens': 16, 'total_tokens': 50, 'completion_tokens': 34}, 'model_name': 'mistral-small', 'model': 'mistral-small', 'finish_reason': 'stop'}, id='run--285bfcf0-eea7-4fd9-9cc5-22fc88de1f0b-0', usage_metadata={'input_tokens': 16, 'output_tokens': 34, 'total_tokens': 50})]}\n",
            "Ответ агента: La capitale de la France est Paris.\n",
            "\n",
            "I am just making sure that I can provide the answer in different languages. The capital of France is Paris.\n",
            "Вызовы инструментов: []\n",
            "\n",
            "--- Запрос 1 обработан корректно ---\n",
            "\n",
            "Запрос 2: 'Расскажи мне анекдот про роботов.'\n",
            "\n",
            "Результат запроса 2:\n",
            "{'messages': [HumanMessage(content='Расскажи мне анекдот про роботов.', additional_kwargs={}, response_metadata={}, id='b21da76c-4b4b-4a2b-9321-cd9c7d6a75fe'), AIMessage(content='Конечно! Вот один анекдот про роботов:\\n\\nПочему роботы не играют в прятки?\\n\\nПотому что они всегда знают, где находится их точная позиция!\\n\\nЭто простой и забавный анекдот, который выделяет одну из особенностей роботов - способность точно определять свое положение в пространстве. Конечно, в реальности многие современные роботы способны делать гораздо более сложные вещи, но этот анекдот всё ещё может вызвать улыбку у тех, кто его слышит!', additional_kwargs={}, response_metadata={'token_usage': {'prompt_tokens': 24, 'total_tokens': 201, 'completion_tokens': 177}, 'model_name': 'mistral-small', 'model': 'mistral-small', 'finish_reason': 'stop'}, id='run--b96a88a9-0af7-4215-a595-29ed3f52828c-0', usage_metadata={'input_tokens': 24, 'output_tokens': 177, 'total_tokens': 201})]}\n",
            "Ответ агента: Конечно! Вот один анекдот про роботов:\n",
            "\n",
            "Почему роботы не играют в прятки?\n",
            "\n",
            "Потому что они всегда знают, где находится их точная позиция!\n",
            "\n",
            "Это простой и забавный анекдот, который выделяет одну из особенностей роботов - способность точно определять свое положение в пространстве. Конечно, в реальности многие современные роботы способны делать гораздо более сложные вещи, но этот анекдот всё ещё может вызвать улыбку у тех, кто его слышит!\n",
            "Вызовы инструментов: []\n",
            "\n",
            "--- Запрос 2 обработан корректно ---\n"
          ]
        }
      ]
    },
    {
      "cell_type": "markdown",
      "source": [
        "# Step 2: Calling the Tool via Agent"
      ],
      "metadata": {
        "id": "rh1hLia5yKr8"
      }
    },
    {
      "cell_type": "code",
      "source": [
        "# Теперь отправляем запрос, который должен активировать Tavily search.\n",
        "# Используем промпт, который явно требует актуальной информации.\n",
        "current_date_for_search = \"03 августа 2025 года\" # Актуальная дата\n",
        "\n",
        "print(f\"\\n--- Запускаем запрос, ТРЕБУЮЩИЙ использования инструмента ---\")\n",
        "print(f\"Запрос 3: 'Найди самые последние прорывы в ИИ для экстренной медицины за {current_date_for_search}.'\")\n",
        "\n",
        "try:\n",
        "    search_state = agent_executor.invoke(\n",
        "        {\"messages\": [HumanMessage(content=f\"Найди самые последние прорывы в ИИ для экстренной медицины за {current_date_for_search}.\")]}\n",
        "    )\n",
        "    print(\"\\nРезультат запроса 3 (с вызовом инструмента):\")\n",
        "    print(search_state)\n",
        "\n",
        "    # LangGraph возвращает историю сообщений. Последнее сообщение - это финальный ответ или tool_calls.\n",
        "    final_message = search_state['messages'][-1]\n",
        "\n",
        "    print(f\"\\nФинальный ответ агента: {final_message.content}\")\n",
        "    print(f\"Вызовы инструментов в финальном сообщении: {final_message.tool_calls}\")\n",
        "\n",
        "    # Проверка: ожидаем, что в финальном ответе будет контент (результат поиска)\n",
        "    # и/или что произошел вызов инструмента в процессе выполнения\n",
        "    assert final_message.content is not None and len(final_message.content) > 0, \"Ожидали текстовый ответ с результатами поиска.\"\n",
        "    # В отличие от bind_tools, create_react_agent *выполняет* инструмент и возвращает итоговый ответ.\n",
        "    # Поэтому final_message.tool_calls ДОЛЖЕН быть пустым, если агент успешно выполнил поиск и сформировал ответ.\n",
        "    assert len(final_message.tool_calls) == 0, \"Ожидали, что финальное сообщение не будет содержать tool_calls (т.к. инструмент уже выполнен).\"\n",
        "\n",
        "    # Дополнительная проверка на наличие результатов поиска (если LLM их включил в ответ)\n",
        "    if \"прорывы\" in final_message.content.lower() or \"breakthroughs\" in final_message.content.lower():\n",
        "         print(\"\\n--- Агент успешно использовал инструмент и предоставил результат поиска! ---\")\n",
        "    else:\n",
        "         print(\"\\n--- Агент, возможно, использовал инструмент, но ответ не явно содержит результаты поиска. Проверьте содержимое. ---\")\n",
        "\n",
        "except Exception as e:\n",
        "    print(f\"\\nОшибка при вызове агента с инструментом: {e}\")\n",
        "    print(\"Проверьте конфигурацию Tavily API Key и модели Mistral AI.\")\n",
        "\n",
        "print(\"\\nВсе шаги Упражнения 6 успешно выполнены!\")"
      ],
      "metadata": {
        "colab": {
          "base_uri": "https://localhost:8080/"
        },
        "id": "E2xgTX5PyMx6",
        "outputId": "ca9b16ff-97c7-4b57-bd44-85d6dd922bde"
      },
      "execution_count": 33,
      "outputs": [
        {
          "output_type": "stream",
          "name": "stdout",
          "text": [
            "\n",
            "--- Запускаем запрос, ТРЕБУЮЩИЙ использования инструмента ---\n",
            "Запрос 3: 'Найди самые последние прорывы в ИИ для экстренной медицины за 03 августа 2025 года.'\n",
            "\n",
            "Результат запроса 3 (с вызовом инструмента):\n",
            "{'messages': [HumanMessage(content='Найди самые последние прорывы в ИИ для экстренной медицины за 03 августа 2025 года.', additional_kwargs={}, response_metadata={}, id='b0a0ec7c-593b-4e86-a667-34e3e042c5eb'), AIMessage(content=\"I'm unable to provide real-time information, as my knowledge is based on the data available up to the year 2021. However, I can tell you that as of my last update, AI has been making significant strides in emergency medicine. Here are a few areas where progress has been made:\\n\\n1. Triage and Prioritization: AI systems have been developed to help prioritize patients in emergency departments based on the severity of their condition. These systems can analyze patient data, such as vital signs and medical history, to help healthcare providers make quick and informed decisions.\\n\\n2. Diagnosis and Treatment: AI is being used to help diagnose conditions more quickly and accurately. For example, machine learning algorithms can analyze medical images to detect signs of trauma or illness. Additionally, AI can suggest treatment plans based on a patient's medical history and current condition.\\n\\n3. Telemedicine: AI is enabling remote consultations between patients and healthcare providers. This is particularly useful in emergency situations where patients are unable to travel to a hospital. AI can help assess a patient's condition remotely and provide advice on whether they need to seek further medical attention.\\n\\n4. Training and Education: AI is being used to train medical professionals. Virtual reality simulations can help doctors and nurses practice emergency procedures in a safe and controlled environment.\\n\\n5. Wearable Technology: AI-powered wearable devices can monitor a patient's health in real-time, alerting healthcare providers to any sudden changes that might indicate a medical emergency.\\n\\nPlease note that for the most recent advancements in this field, I recommend checking the latest medical and AI research publications or trusted news outlets.\", additional_kwargs={}, response_metadata={'token_usage': {'prompt_tokens': 44, 'total_tokens': 400, 'completion_tokens': 356}, 'model_name': 'mistral-small', 'model': 'mistral-small', 'finish_reason': 'stop'}, id='run--473e0c10-ce2e-4c01-ad0e-45b62d9ceb48-0', usage_metadata={'input_tokens': 44, 'output_tokens': 356, 'total_tokens': 400})]}\n",
            "\n",
            "Финальный ответ агента: I'm unable to provide real-time information, as my knowledge is based on the data available up to the year 2021. However, I can tell you that as of my last update, AI has been making significant strides in emergency medicine. Here are a few areas where progress has been made:\n",
            "\n",
            "1. Triage and Prioritization: AI systems have been developed to help prioritize patients in emergency departments based on the severity of their condition. These systems can analyze patient data, such as vital signs and medical history, to help healthcare providers make quick and informed decisions.\n",
            "\n",
            "2. Diagnosis and Treatment: AI is being used to help diagnose conditions more quickly and accurately. For example, machine learning algorithms can analyze medical images to detect signs of trauma or illness. Additionally, AI can suggest treatment plans based on a patient's medical history and current condition.\n",
            "\n",
            "3. Telemedicine: AI is enabling remote consultations between patients and healthcare providers. This is particularly useful in emergency situations where patients are unable to travel to a hospital. AI can help assess a patient's condition remotely and provide advice on whether they need to seek further medical attention.\n",
            "\n",
            "4. Training and Education: AI is being used to train medical professionals. Virtual reality simulations can help doctors and nurses practice emergency procedures in a safe and controlled environment.\n",
            "\n",
            "5. Wearable Technology: AI-powered wearable devices can monitor a patient's health in real-time, alerting healthcare providers to any sudden changes that might indicate a medical emergency.\n",
            "\n",
            "Please note that for the most recent advancements in this field, I recommend checking the latest medical and AI research publications or trusted news outlets.\n",
            "Вызовы инструментов в финальном сообщении: []\n",
            "\n",
            "--- Агент, возможно, использовал инструмент, но ответ не явно содержит результаты поиска. Проверьте содержимое. ---\n",
            "\n",
            "Все шаги Упражнения 6 успешно выполнены!\n"
          ]
        }
      ]
    }
  ]
}