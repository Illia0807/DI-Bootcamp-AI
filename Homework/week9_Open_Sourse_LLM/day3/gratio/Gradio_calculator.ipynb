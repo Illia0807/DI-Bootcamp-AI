{
  "cells": [
    {
      "cell_type": "markdown",
      "metadata": {
        "id": "eWIxyps5WRbB"
      },
      "source": [
        "# 🌟 Exercise 1 : Gradio Interface - Multi-Function Toolkit"
      ]
    },
    {
      "cell_type": "code",
      "execution_count": 1,
      "metadata": {
        "id": "H9Ur3m2UWFIi",
        "colab": {
          "base_uri": "https://localhost:8080/"
        },
        "outputId": "bec738db-a43d-493a-d1d4-2ffb0df90df2"
      },
      "outputs": [
        {
          "output_type": "stream",
          "name": "stdout",
          "text": [
            "\u001b[2K     \u001b[90m━━━━━━━━━━━━━━━━━━━━━━━━━━━━━━━━━━━━━━━━\u001b[0m \u001b[32m44.3/44.3 kB\u001b[0m \u001b[31m2.3 MB/s\u001b[0m eta \u001b[36m0:00:00\u001b[0m\n",
            "\u001b[2K   \u001b[90m━━━━━━━━━━━━━━━━━━━━━━━━━━━━━━━━━━━━━━━━\u001b[0m \u001b[32m9.9/9.9 MB\u001b[0m \u001b[31m50.7 MB/s\u001b[0m eta \u001b[36m0:00:00\u001b[0m\n",
            "\u001b[2K   \u001b[90m━━━━━━━━━━━━━━━━━━━━━━━━━━━━━━━━━━━━━━━━\u001b[0m \u001b[32m6.9/6.9 MB\u001b[0m \u001b[31m60.6 MB/s\u001b[0m eta \u001b[36m0:00:00\u001b[0m\n",
            "\u001b[2K   \u001b[90m━━━━━━━━━━━━━━━━━━━━━━━━━━━━━━━━━━━━━━━━\u001b[0m \u001b[32m79.1/79.1 kB\u001b[0m \u001b[31m3.7 MB/s\u001b[0m eta \u001b[36m0:00:00\u001b[0m\n",
            "\u001b[?25h"
          ]
        }
      ],
      "source": [
        "!pip install gradio streamlit fastapi -q"
      ]
    },
    {
      "cell_type": "code",
      "execution_count": 2,
      "metadata": {
        "id": "75yJ6rM_XQUm"
      },
      "outputs": [],
      "source": [
        "import gradio as gr\n",
        "\n",
        "def square_fct(nb):\n",
        "  return nb**2\n",
        "\n",
        "with gr.Blocks() as demo:\n",
        "  name_state = gr.State()\n",
        "\n",
        "  with gr.Tab(\"Greet\"):\n",
        "    name_input = gr.Textbox(label=\"Name\")\n",
        "    greet_button = gr.Button(\"Greet\")\n",
        "    greet_output = gr.Textbox(label=\"Greeting\")\n",
        "    greet_button.click(fn=lambda name: f\"Hello {name}!\", inputs=name_input, outputs=greet_output)\n",
        "\n",
        "  with gr.Tab(\"Echo\"):\n",
        "    echo_input = gr.Textbox(label=\"Text\")\n",
        "    echo_button = gr.Button(\"Echo\")\n",
        "    echo_output = gr.Textbox(label=\"Echo Output\")\n",
        "    echo_button.click(fn=lambda text: f\"You said: {text}\", inputs=echo_input, outputs=echo_output)\n",
        "\n",
        "  with gr.Tab(\"Square a number\"):\n",
        "    square_input = gr.Number(label=\"Number\")\n",
        "    square_button = gr.Button(\"Square\")\n",
        "    square_output = gr.Number(label=\"Square Output\")\n",
        "    square_button.click(fn=square_fct, inputs=square_input, outputs=square_output)"
      ]
    },
    {
      "cell_type": "markdown",
      "metadata": {
        "id": "ddjjRkllb6ht"
      },
      "source": [
        "# 🌟 Exercise 2 : Gradio Blocks - Simple Two-Step Calculator"
      ]
    },
    {
      "cell_type": "code",
      "execution_count": 3,
      "metadata": {
        "id": "4zxd01PBb7ym"
      },
      "outputs": [],
      "source": [
        "def add_to_screen(current_text, char):\n",
        "  return current_text + str(char)\n",
        "\n",
        "def calculate(current_text):\n",
        "    try:\n",
        "        return eval(current_text)\n",
        "    except:\n",
        "        return \"Error\"\n",
        "\n",
        "def clear_screen():\n",
        "    return \"\"\n",
        "\n",
        "with gr.Blocks() as demo:\n",
        "  calc_screen = gr.Textbox(interactive=False)\n",
        "\n",
        "  with gr.Row():\n",
        "      btn_one = gr.Button(\"1\")\n",
        "      btn_one.click(add_to_screen, inputs=[calc_screen, btn_one], outputs=calc_screen)\n",
        "      btn_two = gr.Button(\"2\")\n",
        "      btn_two.click(add_to_screen, inputs=[calc_screen, btn_two], outputs=calc_screen)\n",
        "      btn_three = gr.Button(\"3\")\n",
        "      btn_three.click(add_to_screen, inputs=[calc_screen, btn_three], outputs=calc_screen)\n",
        "      btn_plus = gr.Button(\"+\")\n",
        "      btn_plus.click(add_to_screen, inputs=[calc_screen, btn_plus], outputs=calc_screen)\n",
        "  with gr.Row():\n",
        "      btn_four = gr.Button(\"4\")\n",
        "      btn_four.click(add_to_screen, inputs=[calc_screen, btn_four], outputs=calc_screen)\n",
        "      btn_five = gr.Button(\"5\")\n",
        "      btn_five.click(add_to_screen, inputs=[calc_screen, btn_five], outputs=calc_screen)\n",
        "      btn_six = gr.Button(\"6\")\n",
        "      btn_six.click(add_to_screen, inputs=[calc_screen, btn_six], outputs=calc_screen)\n",
        "      btn_minus = gr.Button(\"-\")\n",
        "      btn_minus.click(add_to_screen, inputs=[calc_screen, btn_minus], outputs=calc_screen)\n",
        "  with gr.Row():\n",
        "      btn_seven = gr.Button(\"7\")\n",
        "      btn_seven.click(add_to_screen, inputs=[calc_screen, btn_seven], outputs=calc_screen)\n",
        "      btn_eight = gr.Button(\"8\")\n",
        "      btn_eight.click(add_to_screen, inputs=[calc_screen, btn_eight], outputs=calc_screen)\n",
        "      btn_nine = gr.Button(\"9\")\n",
        "      btn_nine.click(add_to_screen, inputs=[calc_screen, btn_nine], outputs=calc_screen)\n",
        "      btn_multiply = gr.Button(\"*\")\n",
        "      btn_multiply.click(add_to_screen, inputs=[calc_screen, btn_multiply], outputs=calc_screen)\n",
        "  with gr.Row():\n",
        "      btn_zero = gr.Button(\"0\")\n",
        "      btn_zero.click(add_to_screen, inputs=[calc_screen, btn_zero], outputs=calc_screen)\n",
        "      btn_equals = gr.Button(\"=\")\n",
        "      btn_equals.click(calculate, inputs=calc_screen, outputs=calc_screen)\n",
        "      btn_divide = gr.Button(\"/\")\n",
        "      btn_divide.click(add_to_screen, inputs=[calc_screen, btn_divide], outputs=calc_screen)\n",
        "      btn_cancel = gr.Button(\"C\")\n",
        "      btn_cancel.click(clear_screen, outputs=calc_screen)"
      ]
    },
    {
      "cell_type": "code",
      "execution_count": 4,
      "metadata": {
        "colab": {
          "base_uri": "https://localhost:8080/",
          "height": 646
        },
        "id": "h42mdiKqXRbd",
        "outputId": "89a874c3-c0df-46a4-a4b0-b697c6bf83ed"
      },
      "outputs": [
        {
          "output_type": "stream",
          "name": "stdout",
          "text": [
            "It looks like you are running Gradio on a hosted Jupyter notebook, which requires `share=True`. Automatically setting `share=True` (you can turn this off by setting `share=False` in `launch()` explicitly).\n",
            "\n",
            "Colab notebook detected. To show errors in colab notebook, set debug=True in launch()\n",
            "* Running on public URL: https://1fcd5937022672df3c.gradio.live\n",
            "\n",
            "This share link expires in 1 week. For free permanent hosting and GPU upgrades, run `gradio deploy` from the terminal in the working directory to deploy to Hugging Face Spaces (https://huggingface.co/spaces)\n"
          ]
        },
        {
          "output_type": "display_data",
          "data": {
            "text/plain": [
              "<IPython.core.display.HTML object>"
            ],
            "text/html": [
              "<div><iframe src=\"https://1fcd5937022672df3c.gradio.live\" width=\"100%\" height=\"500\" allow=\"autoplay; camera; microphone; clipboard-read; clipboard-write;\" frameborder=\"0\" allowfullscreen></iframe></div>"
            ]
          },
          "metadata": {}
        },
        {
          "output_type": "execute_result",
          "data": {
            "text/plain": []
          },
          "metadata": {},
          "execution_count": 4
        }
      ],
      "source": [
        "demo.launch()"
      ]
    }
  ],
  "metadata": {
    "colab": {
      "provenance": []
    },
    "kernelspec": {
      "display_name": "Python 3",
      "name": "python3"
    },
    "language_info": {
      "name": "python"
    }
  },
  "nbformat": 4,
  "nbformat_minor": 0
}