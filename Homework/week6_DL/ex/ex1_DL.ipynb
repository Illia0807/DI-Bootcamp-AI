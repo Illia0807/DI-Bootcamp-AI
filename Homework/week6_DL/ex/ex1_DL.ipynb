{
  "nbformat": 4,
  "nbformat_minor": 0,
  "metadata": {
    "colab": {
      "provenance": []
    },
    "kernelspec": {
      "name": "python3",
      "display_name": "Python 3"
    },
    "language_info": {
      "name": "python"
    }
  },
  "cells": [
    {
      "cell_type": "markdown",
      "source": [
        "# EX1"
      ],
      "metadata": {
        "id": "Rd5F_rvO8kFR"
      }
    },
    {
      "cell_type": "markdown",
      "source": [
        "**Key difference between traditional ML and Deep Learning?**\n",
        "Traditional ML needs manual feature extraction. Deep Learning learns features automatically using multilayer neural networks.\n",
        "\n",
        "**How do neural networks imitate the human brain?**\n",
        "Neural networks have nodes (neurons) connected like brain neurons. They process signals and learn by adjusting connections.\n",
        "\n",
        "**Why is Deep Learning better with large datasets?**\n",
        "Big data helps deep networks find complex patterns and improve model accuracy.\n",
        "\n",
        "**Main problems of Deep Learning and how to fix them?**\n",
        "Problems: overfitting, need for lots of data, heavy computing. Fixes: regularization, Dropout, data augmentation, strong hardware.\n",
        "\n",
        "**What is feature engineering and why isn’t it needed in Deep Learning?**\n",
        "Feature engineering is manually creating features from raw data. Deep Learning does this automatically through layers.\n",
        "\n",
        "**Role of hidden layers?**\n",
        "Hidden layers transform input to find complex patterns that help predictions.\n",
        "\n",
        "**What does activation function do in an ANN?**\n",
        "It adds non-linearity so the network can learn complex functions, not just simple sums."
      ],
      "metadata": {
        "id": "9IstB76N8x2S"
      }
    },
    {
      "cell_type": "markdown",
      "source": [
        "# Exercise 2"
      ],
      "metadata": {
        "id": "-z2jjUnx89xp"
      }
    },
    {
      "cell_type": "markdown",
      "source": [
        "Weighted Sum = (Temperature × 0.6) + (Rain × 0.4) + Bias\n",
        "Bias = 2\n",
        "**box 1:**\n",
        " Temp = 70, Rain = 0\n",
        "Weighted Sum = 70*0.6 + 0*0.4 + 2 = 42 + 0 + 2 = 44\n",
        "\n",
        "44 > 20 → Exit = 1 (go outside)\n",
        "\n",
        "**box2:**\n",
        "Temp = 50, Rain = 1\n",
        "Weighted Sum = 50*0.6 + 1*0.4 + 2 = 30 + 0.4 + 2 = 32.4\n",
        "32.4 > 20 → Exit = 1 (go outside)\n",
        "**summ**\n",
        "The perceptron suggests going outside in both cases because the weighted sum is above the threshold of 20. Even with rain and lower temperatures, the sum remains above the threshold due to the temperature weight and bias.\n"
      ],
      "metadata": {
        "id": "a74PmMX_8_JB"
      }
    },
    {
      "cell_type": "markdown",
      "source": [
        "# Exercise **3**"
      ],
      "metadata": {
        "id": "q9b-qD0r-UFJ"
      }
    },
    {
      "cell_type": "code",
      "source": [
        "import tensorflow as tf\n",
        "from tensorflow.keras import layers, models\n",
        "from tensorflow.keras.utils import to_categorical\n",
        "\n",
        "# 1. Загрузка данных MNIST\n",
        "(x_train, y_train), (x_test, y_test) = tf.keras.datasets.mnist.load_data()\n",
        "\n",
        "# 2. Нормализация\n",
        "x_train = x_train / 255.0\n",
        "x_test = x_test / 255.0\n",
        "\n",
        "# 3. One-hot кодирование меток\n",
        "y_train = to_categorical(y_train, 10)\n",
        "y_test = to_categorical(y_test, 10)\n",
        "\n",
        "# 4. Создание модели\n",
        "model = models.Sequential([\n",
        "    layers.Flatten(input_shape=(28, 28)),\n",
        "    layers.Dense(128, activation='relu'),\n",
        "    layers.Dense(10, activation='softmax')\n",
        "])\n",
        "\n",
        "# 5. Компиляция\n",
        "model.compile(optimizer='adam',\n",
        "              loss='categorical_crossentropy',\n",
        "              metrics=['accuracy'])\n",
        "\n",
        "# 6. Обучение\n",
        "model.fit(x_train, y_train, epochs=5, validation_split=0.1)\n",
        "\n",
        "# 7. Оценка\n",
        "test_loss, test_acc = model.evaluate(x_test, y_test)\n",
        "print(f\"Test accuracy: {test_acc}\")\n"
      ],
      "metadata": {
        "colab": {
          "base_uri": "https://localhost:8080/"
        },
        "id": "rs7QUiXP-VtI",
        "outputId": "81080096-23db-4c5f-a93d-4c563a6c98b4"
      },
      "execution_count": 2,
      "outputs": [
        {
          "output_type": "stream",
          "name": "stdout",
          "text": [
            "Downloading data from https://storage.googleapis.com/tensorflow/tf-keras-datasets/mnist.npz\n",
            "\u001b[1m11490434/11490434\u001b[0m \u001b[32m━━━━━━━━━━━━━━━━━━━━\u001b[0m\u001b[37m\u001b[0m \u001b[1m0s\u001b[0m 0us/step\n"
          ]
        },
        {
          "output_type": "stream",
          "name": "stderr",
          "text": [
            "/usr/local/lib/python3.11/dist-packages/keras/src/layers/reshaping/flatten.py:37: UserWarning: Do not pass an `input_shape`/`input_dim` argument to a layer. When using Sequential models, prefer using an `Input(shape)` object as the first layer in the model instead.\n",
            "  super().__init__(**kwargs)\n"
          ]
        },
        {
          "output_type": "stream",
          "name": "stdout",
          "text": [
            "Epoch 1/5\n",
            "\u001b[1m1688/1688\u001b[0m \u001b[32m━━━━━━━━━━━━━━━━━━━━\u001b[0m\u001b[37m\u001b[0m \u001b[1m9s\u001b[0m 4ms/step - accuracy: 0.8732 - loss: 0.4564 - val_accuracy: 0.9663 - val_loss: 0.1259\n",
            "Epoch 2/5\n",
            "\u001b[1m1688/1688\u001b[0m \u001b[32m━━━━━━━━━━━━━━━━━━━━\u001b[0m\u001b[37m\u001b[0m \u001b[1m6s\u001b[0m 4ms/step - accuracy: 0.9613 - loss: 0.1328 - val_accuracy: 0.9722 - val_loss: 0.0992\n",
            "Epoch 3/5\n",
            "\u001b[1m1688/1688\u001b[0m \u001b[32m━━━━━━━━━━━━━━━━━━━━\u001b[0m\u001b[37m\u001b[0m \u001b[1m7s\u001b[0m 4ms/step - accuracy: 0.9747 - loss: 0.0866 - val_accuracy: 0.9757 - val_loss: 0.0839\n",
            "Epoch 4/5\n",
            "\u001b[1m1688/1688\u001b[0m \u001b[32m━━━━━━━━━━━━━━━━━━━━\u001b[0m\u001b[37m\u001b[0m \u001b[1m6s\u001b[0m 4ms/step - accuracy: 0.9824 - loss: 0.0600 - val_accuracy: 0.9763 - val_loss: 0.0841\n",
            "Epoch 5/5\n",
            "\u001b[1m1688/1688\u001b[0m \u001b[32m━━━━━━━━━━━━━━━━━━━━\u001b[0m\u001b[37m\u001b[0m \u001b[1m7s\u001b[0m 4ms/step - accuracy: 0.9855 - loss: 0.0464 - val_accuracy: 0.9797 - val_loss: 0.0793\n",
            "\u001b[1m313/313\u001b[0m \u001b[32m━━━━━━━━━━━━━━━━━━━━\u001b[0m\u001b[37m\u001b[0m \u001b[1m1s\u001b[0m 2ms/step - accuracy: 0.9697 - loss: 0.0976\n",
            "Test accuracy: 0.9740999937057495\n"
          ]
        }
      ]
    },
    {
      "cell_type": "code",
      "source": [],
      "metadata": {
        "id": "T4N7EsSH9HPx"
      },
      "execution_count": null,
      "outputs": []
    },
    {
      "cell_type": "markdown",
      "source": [
        "# Exercise 4"
      ],
      "metadata": {
        "id": "ikgu_sD9xc4W"
      }
    },
    {
      "cell_type": "code",
      "source": [
        "x1 = 2000  # площадь в кв. фут.\n",
        "x2 = 3     # количество спален\n",
        "\n",
        "w1 = 0.5   # вес для площади\n",
        "w2 = 0.7   # вес для спален\n",
        "\n",
        "b = 50000  # смещение (bias)\n",
        "\n",
        "# 👉 Вычисляем линейную комбинацию\n",
        "z = x1 * w1 + x2 * w2 + b\n",
        "\n",
        "print(f'z = {z}')\n",
        "\n",
        "# 👉 Функция активации ReLU\n",
        "def relu(x):\n",
        "    return max(0, x)\n",
        "\n",
        "# 👉 Применяем ReLU\n",
        "output = relu(z)\n",
        "\n",
        "print(f'Предсказанная цена дома: ${output:.2f}')"
      ],
      "metadata": {
        "colab": {
          "base_uri": "https://localhost:8080/"
        },
        "id": "AE6saSw2xd59",
        "outputId": "49998ba9-53dd-4173-8206-032fdef5f983"
      },
      "execution_count": 1,
      "outputs": [
        {
          "output_type": "stream",
          "name": "stdout",
          "text": [
            "z = 51002.1\n",
            "Предсказанная цена дома: $51002.10\n"
          ]
        }
      ]
    },
    {
      "cell_type": "markdown",
      "source": [
        "# Exercise 5"
      ],
      "metadata": {
        "id": "u5zyDELUxvol"
      }
    },
    {
      "cell_type": "code",
      "source": [
        "import numpy as np\n",
        "\n",
        "# Данные\n",
        "x = np.array([4, 80])  # 4 часа и оценка 80\n",
        "w = np.array([0.6, 0.3])  # Начальные веса\n",
        "b = 10  # Начальный bias\n",
        "\n",
        "def forward_propagation(x, w, b):\n",
        "    z = np.dot(x, w) + b\n",
        "    return z\n",
        "\n",
        "y_pred = forward_propagation(x, w, b)\n",
        "y_true = 85\n",
        "\n",
        "loss = 0.5 * (y_true - y_pred) ** 2\n",
        "\n",
        "grad_w = -(y_true - y_pred) * x\n",
        "grad_b = -(y_true - y_pred)\n",
        "\n",
        "learning_rate = 0.01\n",
        "w_new = w - learning_rate * grad_w\n",
        "b_new = b - learning_rate * grad_b\n",
        "\n",
        "print(\"Initial Prediction:\", y_pred)\n",
        "print(\"Loss:\", loss)\n",
        "print(\"Updated Weights:\", w_new)\n",
        "print(\"Updated Bias:\", b_new)"
      ],
      "metadata": {
        "colab": {
          "base_uri": "https://localhost:8080/"
        },
        "id": "ZVP_IFacyRs-",
        "outputId": "07176f10-8124-4782-ac09-6b4481e23505"
      },
      "execution_count": 3,
      "outputs": [
        {
          "output_type": "stream",
          "name": "stdout",
          "text": [
            "Initial Prediction: 36.4\n",
            "Loss: 1180.98\n",
            "Updated Weights: [ 2.544 39.18 ]\n",
            "Updated Bias: 10.486\n"
          ]
        }
      ]
    },
    {
      "cell_type": "code",
      "source": [
        "import numpy as np\n",
        "\n",
        "# Данные\n",
        "x = np.array([4, 80])  # 4 часа и оценка 80\n",
        "w = np.array([0.1, 10.0])  # Начальные веса\n",
        "b = 10  # Начальный bias\n",
        "\n",
        "def forward_propagation(x, w, b):\n",
        "    z = np.dot(x, w) + b\n",
        "    return z\n",
        "\n",
        "y_pred = forward_propagation(x, w, b)\n",
        "y_true = 85\n",
        "\n",
        "loss = 0.5 * (y_true - y_pred) ** 2\n",
        "\n",
        "grad_w = -(y_true - y_pred) * x\n",
        "grad_b = -(y_true - y_pred)\n",
        "\n",
        "learning_rate = 0.05\n",
        "w_new = w - learning_rate * grad_w\n",
        "b_new = b - learning_rate * grad_b\n",
        "\n",
        "print(\"Initial Prediction:\", y_pred)\n",
        "print(\"Loss:\", loss)\n",
        "print(\"Updated Weights:\", w_new)\n",
        "print(\"Updated Bias:\", b_new)"
      ],
      "metadata": {
        "colab": {
          "base_uri": "https://localhost:8080/"
        },
        "id": "hghMYjZ5yWrG",
        "outputId": "bd0b645e-50ab-4695-e0b7-4a343feb1cea"
      },
      "execution_count": 6,
      "outputs": [
        {
          "output_type": "stream",
          "name": "stdout",
          "text": [
            "Initial Prediction: 810.4\n",
            "Loss: 263102.57999999996\n",
            "Updated Weights: [ -144.98 -2891.6 ]\n",
            "Updated Bias: -26.270000000000003\n"
          ]
        }
      ]
    },
    {
      "cell_type": "markdown",
      "source": [
        "# Exercise 6"
      ],
      "metadata": {
        "id": "B4e-R6oXzRdP"
      }
    },
    {
      "cell_type": "code",
      "source": [
        "import tensorflow as tf\n",
        "from tensorflow.keras import layers, models\n",
        "from tensorflow.keras.utils import to_categorical\n",
        "import matplotlib.pyplot as plt\n",
        "import numpy as np\n",
        "\n",
        "# 1. Загрузка данных MNIST\n",
        "(x_train, y_train), (x_test, y_test) = tf.keras.datasets.mnist.load_data()\n",
        "\n",
        "# 2. Нормализация\n",
        "x_train = x_train / 255.0\n",
        "x_test = x_test / 255.0\n",
        "\n",
        "# 3. One-hot кодирование меток\n",
        "y_train = to_categorical(y_train, 10)\n",
        "y_test = to_categorical(y_test, 10)\n",
        "\n",
        "# 4. Создание модели\n",
        "model = models.Sequential([\n",
        "    layers.Flatten(input_shape=(28, 28)),\n",
        "    layers.Dense(128, activation='relu'),\n",
        "    layers.Dense(10, activation='softmax')\n",
        "])\n",
        "\n",
        "# 5. Компиляция\n",
        "model.compile(optimizer='adam',\n",
        "              loss='categorical_crossentropy',\n",
        "              metrics=['accuracy'])\n",
        "\n",
        "# 6. Обучение\n",
        "model.fit(x_train, y_train, epochs=5, validation_split=0.1)\n",
        "\n",
        "# 7. Оценка\n",
        "test_loss, test_acc = model.evaluate(x_test, y_test)\n",
        "print(f\"Test accuracy: {test_acc}\")\n",
        "\n",
        "\n",
        "# Предсказания на тесте\n",
        "predictions = model.predict(x_test)\n",
        "\n",
        "# Функция для отображения изображений и предсказаний\n",
        "def plot_images(images, labels, preds, n=5):\n",
        "    plt.figure(figsize=(10, 4))\n",
        "    for i in range(n):\n",
        "        plt.subplot(1, n, i+1)\n",
        "        plt.imshow(images[i], cmap='gray')\n",
        "        plt.title(f\"True: {np.argmax(labels[i])}\\nPred: {np.argmax(preds[i])}\")\n",
        "        plt.axis('off')\n",
        "    plt.show()\n",
        "\n",
        "plot_images(x_test, y_test, predictions)\n"
      ],
      "metadata": {
        "colab": {
          "base_uri": "https://localhost:8080/",
          "height": 493
        },
        "id": "SlRilHRczUl-",
        "outputId": "46497854-bad6-4f59-d9ed-cee0bee685f5"
      },
      "execution_count": 7,
      "outputs": [
        {
          "output_type": "stream",
          "name": "stderr",
          "text": [
            "/usr/local/lib/python3.11/dist-packages/keras/src/layers/reshaping/flatten.py:37: UserWarning: Do not pass an `input_shape`/`input_dim` argument to a layer. When using Sequential models, prefer using an `Input(shape)` object as the first layer in the model instead.\n",
            "  super().__init__(**kwargs)\n"
          ]
        },
        {
          "output_type": "stream",
          "name": "stdout",
          "text": [
            "Epoch 1/5\n",
            "\u001b[1m1688/1688\u001b[0m \u001b[32m━━━━━━━━━━━━━━━━━━━━\u001b[0m\u001b[37m\u001b[0m \u001b[1m8s\u001b[0m 4ms/step - accuracy: 0.8707 - loss: 0.4578 - val_accuracy: 0.9648 - val_loss: 0.1244\n",
            "Epoch 2/5\n",
            "\u001b[1m1688/1688\u001b[0m \u001b[32m━━━━━━━━━━━━━━━━━━━━\u001b[0m\u001b[37m\u001b[0m \u001b[1m11s\u001b[0m 4ms/step - accuracy: 0.9605 - loss: 0.1317 - val_accuracy: 0.9735 - val_loss: 0.0932\n",
            "Epoch 3/5\n",
            "\u001b[1m1688/1688\u001b[0m \u001b[32m━━━━━━━━━━━━━━━━━━━━\u001b[0m\u001b[37m\u001b[0m \u001b[1m6s\u001b[0m 3ms/step - accuracy: 0.9748 - loss: 0.0816 - val_accuracy: 0.9727 - val_loss: 0.0904\n",
            "Epoch 4/5\n",
            "\u001b[1m1688/1688\u001b[0m \u001b[32m━━━━━━━━━━━━━━━━━━━━\u001b[0m\u001b[37m\u001b[0m \u001b[1m10s\u001b[0m 4ms/step - accuracy: 0.9810 - loss: 0.0627 - val_accuracy: 0.9773 - val_loss: 0.0799\n",
            "Epoch 5/5\n",
            "\u001b[1m1688/1688\u001b[0m \u001b[32m━━━━━━━━━━━━━━━━━━━━\u001b[0m\u001b[37m\u001b[0m \u001b[1m10s\u001b[0m 4ms/step - accuracy: 0.9869 - loss: 0.0441 - val_accuracy: 0.9765 - val_loss: 0.0814\n",
            "\u001b[1m313/313\u001b[0m \u001b[32m━━━━━━━━━━━━━━━━━━━━\u001b[0m\u001b[37m\u001b[0m \u001b[1m1s\u001b[0m 2ms/step - accuracy: 0.9741 - loss: 0.0903\n",
            "Test accuracy: 0.9779999852180481\n",
            "\u001b[1m313/313\u001b[0m \u001b[32m━━━━━━━━━━━━━━━━━━━━\u001b[0m\u001b[37m\u001b[0m \u001b[1m1s\u001b[0m 2ms/step\n"
          ]
        },
        {
          "output_type": "display_data",
          "data": {
            "text/plain": [
              "<Figure size 1000x400 with 5 Axes>"
            ],
            "image/png": "[encoded data removed]"
          },
          "metadata": {}
        }
      ]
    }
  ]
}