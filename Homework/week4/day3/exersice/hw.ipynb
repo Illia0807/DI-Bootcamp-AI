{
  "nbformat": 4,
  "nbformat_minor": 0,
  "metadata": {
    "colab": {
      "provenance": []
    },
    "kernelspec": {
      "name": "python3",
      "display_name": "Python 3"
    },
    "language_info": {
      "name": "python"
    }
  },
  "cells": [
    {
      "cell_type": "code",
      "execution_count": 1,
      "metadata": {
        "colab": {
          "base_uri": "https://localhost:8080/"
        },
        "id": "TZrgbdrelMp4",
        "outputId": "7df8c621-0859-4c0c-8e19-07fee3a1f0cf"
      },
      "outputs": [
        {
          "output_type": "stream",
          "name": "stdout",
          "text": [
            "Determinant: 0.9999999999999964\n",
            "Inverse matrix:\n",
            " [[-24.  18.   5.]\n",
            " [ 20. -15.  -4.]\n",
            " [ -5.   4.   1.]]\n"
          ]
        }
      ],
      "source": [
        "import numpy as np\n",
        "\n",
        "\n",
        "A = np.array([[1, 2, 3],\n",
        "              [0, 1, 4],\n",
        "              [5, 6, 0]])\n",
        "\n",
        "# Determinant\n",
        "det = np.linalg.det(A)\n",
        "print(\"Determinant:\", det)\n",
        "\n",
        "# Inverse of a Matrix\n",
        "if det != 0:\n",
        "    A_inv = np.linalg.inv(A)\n",
        "    print(\"Inverse matrix:\\n\", A_inv)\n",
        "else:\n",
        "    print(\"Matrix has no inverse.\")\n"
      ]
    },
    {
      "cell_type": "markdown",
      "source": [
        "EX2"
      ],
      "metadata": {
        "id": "A_DyRwoduvHO"
      }
    },
    {
      "cell_type": "code",
      "source": [
        "import numpy as np\n",
        "\n",
        "# Generate an array of 50 random integers between 0 and 100 (inclusive)\n",
        "data = np.random.randint(0, 101, size=50)\n",
        "\n",
        "# Calculate the mean (average value of the dataset)\n",
        "mean = np.mean(data)\n",
        "\n",
        "# Calculate the median (middle value when sorted)\n",
        "median = np.median(data)\n",
        "\n",
        "# Calculate the standard deviation (how spread out the values are)\n",
        "std_dev = np.std(data)\n",
        "\n",
        "# Print the results\n",
        "print(\"Generated Data:\", data)\n",
        "print(\"Mean:\", mean)\n",
        "print(\"Median:\", median)\n",
        "print(\"Standard Deviation:\", std_dev)\n"
      ],
      "metadata": {
        "colab": {
          "base_uri": "https://localhost:8080/"
        },
        "id": "kz9o5mvwuxTO",
        "outputId": "4d6b47bb-01db-44d1-d509-ff3526b271f2"
      },
      "execution_count": 3,
      "outputs": [
        {
          "output_type": "stream",
          "name": "stdout",
          "text": [
            "Generated Data: [30  4  4 15 28 92 84 11 66 87 45 80 77 55 64  3 62 39 73 48 79 24 56 41\n",
            " 56 33 36 57 23  0 59 22 74 63 13  7 89 17 54  0 19 55 15 26 54 41 59 92\n",
            " 49 35]\n",
            "Mean: 44.3\n",
            "Median: 46.5\n",
            "Standard Deviation: 26.83523802763821\n"
          ]
        }
      ]
    },
    {
      "cell_type": "markdown",
      "source": [
        "EX3"
      ],
      "metadata": {
        "id": "4pc9bHDyvDxe"
      }
    },
    {
      "cell_type": "code",
      "source": [
        "import numpy as np\n",
        "\n",
        "# Step 1: Create a NumPy array of dates from Jan 1 to Jan 31, 2025\n",
        "dates = np.arange('2025-01-01', '2025-02-01', dtype='datetime64[D]')\n",
        "\n",
        "# Step 2: Convert each date to the format 'YYYY/MM/DD'\n",
        "formatted_dates = np.array([date.astype(str).replace('-', '/') for date in dates])\n",
        "\n",
        "# Step 3: Print the results\n",
        "print(\"Original Dates:\\n\", dates)\n",
        "print(\"\\nFormatted Dates:\\n\", formatted_dates)\n"
      ],
      "metadata": {
        "colab": {
          "base_uri": "https://localhost:8080/"
        },
        "id": "udkOBnPMvGwe",
        "outputId": "ca92060e-42e7-40ce-a202-96e5052fce2e"
      },
      "execution_count": 4,
      "outputs": [
        {
          "output_type": "stream",
          "name": "stdout",
          "text": [
            "Original Dates:\n",
            " ['2025-01-01' '2025-01-02' '2025-01-03' '2025-01-04' '2025-01-05'\n",
            " '2025-01-06' '2025-01-07' '2025-01-08' '2025-01-09' '2025-01-10'\n",
            " '2025-01-11' '2025-01-12' '2025-01-13' '2025-01-14' '2025-01-15'\n",
            " '2025-01-16' '2025-01-17' '2025-01-18' '2025-01-19' '2025-01-20'\n",
            " '2025-01-21' '2025-01-22' '2025-01-23' '2025-01-24' '2025-01-25'\n",
            " '2025-01-26' '2025-01-27' '2025-01-28' '2025-01-29' '2025-01-30'\n",
            " '2025-01-31']\n",
            "\n",
            "Formatted Dates:\n",
            " ['2025/01/01' '2025/01/02' '2025/01/03' '2025/01/04' '2025/01/05'\n",
            " '2025/01/06' '2025/01/07' '2025/01/08' '2025/01/09' '2025/01/10'\n",
            " '2025/01/11' '2025/01/12' '2025/01/13' '2025/01/14' '2025/01/15'\n",
            " '2025/01/16' '2025/01/17' '2025/01/18' '2025/01/19' '2025/01/20'\n",
            " '2025/01/21' '2025/01/22' '2025/01/23' '2025/01/24' '2025/01/25'\n",
            " '2025/01/26' '2025/01/27' '2025/01/28' '2025/01/29' '2025/01/30'\n",
            " '2025/01/31']\n"
          ]
        }
      ]
    },
    {
      "cell_type": "markdown",
      "source": [
        "EX4"
      ],
      "metadata": {
        "id": "EdVNwjuXvclG"
      }
    },
    {
      "cell_type": "code",
      "source": [
        "import numpy as np\n",
        "import pandas as pd\n",
        "\n",
        "# Step 1: Create a DataFrame with random integers from 0 to 100\n",
        "data = np.random.randint(0, 101, size=(5, 4))  # 5 rows, 4 columns\n",
        "df = pd.DataFrame(data, columns=[\"A\", \"B\", \"C\", \"D\"])\n",
        "\n",
        "# Step 2: Conditional selection (e.g., all rows where column A > 50)\n",
        "filtered_df = df[df[\"A\"] > 50]\n",
        "\n",
        "# Step 3: Aggregation functions\n",
        "sum_all = df.sum()        # Sum of each column\n",
        "mean_all = df.mean()      # Mean of each column\n",
        "sum_column_c = df[\"C\"].sum()  # Sum of column C\n",
        "median_all = df.median()\n",
        "\n",
        "# Step 4: Print the results\n",
        "print(\"Original DataFrame:\\n\", df)\n",
        "print(\"\\nFiltered DataFrame (A > 50):\\n\", filtered_df)\n",
        "print(\"\\nSum of each column:\\n\", sum_all)\n",
        "print(\"\\nMean of each column:\\n\", mean_all)\n",
        "print(\"\\nSum of column C:\", sum_column_c)\n",
        "print(\"\\nMedian of each column:\\n\", median_all)\n"
      ],
      "metadata": {
        "colab": {
          "base_uri": "https://localhost:8080/"
        },
        "id": "L4AnOwXmvcT3",
        "outputId": "ed2e0654-29b1-4ede-dc41-b82157a0d3d8"
      },
      "execution_count": 6,
      "outputs": [
        {
          "output_type": "stream",
          "name": "stdout",
          "text": [
            "Original DataFrame:\n",
            "     A   B   C   D\n",
            "0  49  53  26  98\n",
            "1  79  66  98  65\n",
            "2  36  15  19  60\n",
            "3  69  95  58   9\n",
            "4  33  87  92  52\n",
            "\n",
            "Filtered DataFrame (A > 50):\n",
            "     A   B   C   D\n",
            "1  79  66  98  65\n",
            "3  69  95  58   9\n",
            "\n",
            "Sum of each column:\n",
            " A    266\n",
            "B    316\n",
            "C    293\n",
            "D    284\n",
            "dtype: int64\n",
            "\n",
            "Mean of each column:\n",
            " A    53.2\n",
            "B    63.2\n",
            "C    58.6\n",
            "D    56.8\n",
            "dtype: float64\n",
            "\n",
            "Sum of column C: 293\n",
            "\n",
            "Median of each column:\n",
            " A    49.0\n",
            "B    66.0\n",
            "C    58.0\n",
            "D    60.0\n",
            "dtype: float64\n"
          ]
        }
      ]
    },
    {
      "cell_type": "markdown",
      "source": [
        "EX5"
      ],
      "metadata": {
        "id": "sDbmiTgiwxet"
      }
    },
    {
      "cell_type": "code",
      "source": [
        "import numpy as np\n",
        "import matplotlib.pyplot as plt\n",
        "\n",
        "# Step 1: Create a 5x5 grayscale image with pixel values from 0 to 255\n",
        "image = np.array([\n",
        "    [  0,  50, 100, 150, 200],\n",
        "    [ 10,  60, 110, 160, 210],\n",
        "    [ 20,  70, 120, 170, 220],\n",
        "    [ 30,  80, 130, 180, 230],\n",
        "    [ 40,  90, 140, 190, 240]\n",
        "], dtype=np.uint8)\n",
        "\n",
        "# Step 2: Print the array (image matrix)\n",
        "print(\"5x5 Grayscale Image (as array):\\n\", image)\n",
        "\n",
        "# Step 3: Display the image using matplotlib\n",
        "plt.imshow(image, cmap='gray')  # use grayscale colormap\n",
        "plt.title(\"5x5 Grayscale Image\")\n",
        "plt.colorbar()  # shows the color scale\n",
        "plt.show()\n"
      ],
      "metadata": {
        "colab": {
          "base_uri": "https://localhost:8080/",
          "height": 556
        },
        "id": "tViG8DrHw-9G",
        "outputId": "b9c6a6b2-c404-41af-f05e-9a00b93b57db"
      },
      "execution_count": 7,
      "outputs": [
        {
          "output_type": "stream",
          "name": "stdout",
          "text": [
            "5x5 Grayscale Image (as array):\n",
            " [[  0  50 100 150 200]\n",
            " [ 10  60 110 160 210]\n",
            " [ 20  70 120 170 220]\n",
            " [ 30  80 130 180 230]\n",
            " [ 40  90 140 190 240]]\n"
          ]
        },
        {
          "output_type": "display_data",
          "data": {
            "text/plain": [
              "<Figure size 640x480 with 2 Axes>"
            ],
            "image/png": "[encoded data removed]"
          },
          "metadata": {}
        }
      ]
    },
    {
      "cell_type": "markdown",
      "source": [
        "EX6"
      ],
      "metadata": {
        "id": "9ZQ0BIBWxILW"
      }
    },
    {
      "cell_type": "code",
      "source": [
        "import numpy as np\n",
        "from scipy import stats\n",
        "\n",
        "# Step 1: Generate sample data\n",
        "np.random.seed(42)  # for reproducibility\n",
        "\n",
        "# Productivity before training\n",
        "productivity_before = np.random.normal(loc=50, scale=10, size=30)\n",
        "\n",
        "# Productivity after training (we simulate improvement)\n",
        "productivity_after = productivity_before + np.random.normal(loc=5, scale=3, size=30)\n",
        "\n",
        "# Step 2: Perform paired t-test\n",
        "t_stat, p_value = stats.ttest_rel(productivity_after, productivity_before)\n",
        "\n",
        "# Step 3: Output the results\n",
        "print(\"Mean before training:\", np.mean(productivity_before))\n",
        "print(\"Mean after training:\", np.mean(productivity_after))\n",
        "print(\"\\nT-statistic:\", t_stat)\n",
        "print(\"P-value:\", p_value)\n",
        "\n",
        "# Step 4: Interpret the result\n",
        "alpha = 0.05\n",
        "if p_value < alpha:\n",
        "    print(\"\\n✅ Reject the null hypothesis: The training program was effective.\")\n",
        "else:\n",
        "    print(\"\\n❌ Fail to reject the null hypothesis: Not enough evidence for effectiveness.\")\n"
      ],
      "metadata": {
        "colab": {
          "base_uri": "https://localhost:8080/"
        },
        "id": "jXQmb7M7xJ0e",
        "outputId": "047f06dd-8e01-404e-a887-7a6b5b3879a4"
      },
      "execution_count": 8,
      "outputs": [
        {
          "output_type": "stream",
          "name": "stdout",
          "text": [
            "Mean before training: 48.118531041489625\n",
            "Mean after training: 52.755043630619795\n",
            "\n",
            "T-statistic: 9.091456480816795\n",
            "P-value: 5.471059881900939e-10\n",
            "\n",
            "✅ Reject the null hypothesis: The training program was effective.\n"
          ]
        }
      ]
    },
    {
      "cell_type": "markdown",
      "source": [
        "EX7"
      ],
      "metadata": {
        "id": "19hEb8htyr5G"
      }
    },
    {
      "cell_type": "code",
      "source": [
        "import numpy as np\n",
        "\n",
        "# Step 1: Create two random integer arrays of the same shape\n",
        "array1 = np.random.randint(0, 100, size=10)\n",
        "array2 = np.random.randint(0, 100, size=10)\n",
        "\n",
        "# Step 2: Perform element-wise comparison (array1 > array2)\n",
        "comparison_result = array1 > array2\n",
        "\n",
        "# Step 3: Print arrays and result\n",
        "print(\"Array 1:\", array1)\n",
        "print(\"Array 2:\", array2)\n",
        "print(\"Element-wise comparison (Array1 > Array2):\", comparison_result)\n"
      ],
      "metadata": {
        "colab": {
          "base_uri": "https://localhost:8080/"
        },
        "id": "WTi-xuNJysa-",
        "outputId": "3a200de1-83be-40ad-9c4b-482898a6fa8a"
      },
      "execution_count": 9,
      "outputs": [
        {
          "output_type": "stream",
          "name": "stdout",
          "text": [
            "Array 1: [33 32 47 22 61 87 36 98 43 85]\n",
            "Array 2: [90 34 64 98 46 77  2  0  4 89]\n",
            "Element-wise comparison (Array1 > Array2): [False False False False  True  True  True  True  True False]\n"
          ]
        }
      ]
    },
    {
      "cell_type": "markdown",
      "source": [
        "EX8"
      ],
      "metadata": {
        "id": "aDTFy6Z5zNKX"
      }
    },
    {
      "cell_type": "code",
      "source": [
        "import pandas as pd\n",
        "import numpy as np\n",
        "\n",
        "# Step 1: Generate a date range for the entire year 2023 (daily)\n",
        "dates = pd.date_range(start=\"2025-01-01\", end=\"2025-12-31\", freq='D')\n",
        "\n",
        "# Step 2: Create random time series data (e.g., temperature, stock price, etc.)\n",
        "data = np.random.randn(len(dates))  # Random values for each day\n",
        "time_series = pd.Series(data, index=dates)\n",
        "\n",
        "# Step 3: Slice the time series for different intervals\n",
        "jan_to_mar = time_series[\"2025-01\":\"2025-03\"]\n",
        "apr_to_jun = time_series[\"2025-04\":\"2025-06\"]\n",
        "jul_to_sep = time_series[\"2025-07\":\"2025-09\"]\n",
        "oct_to_dec = time_series[\"2025-10\":\"2025-12\"]\n",
        "\n",
        "# Step 4: Print sample output for each period\n",
        "print(\"January to March:\\n\", jan_to_mar.head(), \"\\n\")\n",
        "print(\"April to June:\\n\", apr_to_jun.head(), \"\\n\")\n",
        "print(\"July to September:\\n\", jul_to_sep.head(), \"\\n\")\n",
        "print(\"October to December:\\n\", oct_to_dec.head(), \"\\n\")\n"
      ],
      "metadata": {
        "colab": {
          "base_uri": "https://localhost:8080/"
        },
        "id": "pJvsih6XzO0P",
        "outputId": "dfe08bc3-eaed-4c78-b9ea-cbdb5fa6bbab"
      },
      "execution_count": 10,
      "outputs": [
        {
          "output_type": "stream",
          "name": "stdout",
          "text": [
            "January to March:\n",
            " 2025-01-01   -0.779702\n",
            "2025-01-02   -0.843896\n",
            "2025-01-03   -0.150534\n",
            "2025-01-04   -0.965558\n",
            "2025-01-05    0.150489\n",
            "Freq: D, dtype: float64 \n",
            "\n",
            "April to June:\n",
            " 2025-04-01   -0.285489\n",
            "2025-04-02    1.065292\n",
            "2025-04-03    0.853998\n",
            "2025-04-04    1.788594\n",
            "2025-04-05    0.566894\n",
            "Freq: D, dtype: float64 \n",
            "\n",
            "July to September:\n",
            " 2025-07-01    0.157202\n",
            "2025-07-02   -0.115473\n",
            "2025-07-03    0.831709\n",
            "2025-07-04   -0.319355\n",
            "2025-07-05   -0.204617\n",
            "Freq: D, dtype: float64 \n",
            "\n",
            "October to December:\n",
            " 2025-10-01    0.079009\n",
            "2025-10-02    1.060692\n",
            "2025-10-03    0.237485\n",
            "2025-10-04   -0.317369\n",
            "2025-10-05    0.458441\n",
            "Freq: D, dtype: float64 \n",
            "\n"
          ]
        }
      ]
    },
    {
      "cell_type": "markdown",
      "source": [
        "EX9"
      ],
      "metadata": {
        "id": "-e2DYqz50jBn"
      }
    },
    {
      "cell_type": "code",
      "source": [
        "import numpy as np\n",
        "import pandas as pd\n",
        "\n",
        "# Step 1: Create a NumPy array (2D array with shape 3x3)\n",
        "array = np.array([[10, 20, 30],\n",
        "                  [40, 50, 60],\n",
        "                  [70, 80, 90]])\n",
        "\n",
        "# Step 2: Convert NumPy array to Pandas DataFrame\n",
        "df = pd.DataFrame(array, columns=[\"Column A\", \"Column B\", \"Column C\"])\n",
        "\n",
        "# Step 3: Convert the DataFrame back to a NumPy array\n",
        "array_converted_back = df.to_numpy()\n",
        "\n",
        "# Step 4: Print results\n",
        "print(\"Original NumPy Array:\\n\", array)\n",
        "print(\"\\nConverted to DataFrame:\\n\", df)\n",
        "print(\"\\nConverted back to NumPy Array:\\n\", array_converted_back)\n"
      ],
      "metadata": {
        "colab": {
          "base_uri": "https://localhost:8080/"
        },
        "id": "GP63O6Nc0kvG",
        "outputId": "82675913-66fa-4bf1-8756-eb348a86280d"
      },
      "execution_count": 11,
      "outputs": [
        {
          "output_type": "stream",
          "name": "stdout",
          "text": [
            "Original NumPy Array:\n",
            " [[10 20 30]\n",
            " [40 50 60]\n",
            " [70 80 90]]\n",
            "\n",
            "Converted to DataFrame:\n",
            "    Column A  Column B  Column C\n",
            "0        10        20        30\n",
            "1        40        50        60\n",
            "2        70        80        90\n",
            "\n",
            "Converted back to NumPy Array:\n",
            " [[10 20 30]\n",
            " [40 50 60]\n",
            " [70 80 90]]\n"
          ]
        }
      ]
    },
    {
      "cell_type": "markdown",
      "source": [
        "Ex10"
      ],
      "metadata": {
        "id": "ZLAufo5K0voW"
      }
    },
    {
      "cell_type": "code",
      "source": [
        "import numpy as np\n",
        "import matplotlib.pyplot as plt\n",
        "\n",
        "# Step 1: Create a NumPy array of 20 random numbers\n",
        "data = np.random.rand(20)  # 20 случайных чисел от 0 до 1\n",
        "\n",
        "# Step 2: Create an x-axis array for the indices\n",
        "x = np.arange(len(data))\n",
        "\n",
        "# Step 3: Plot the data\n",
        "plt.plot(x, data, marker='o', linestyle='-', color='b')  # Линейный график с кружками\n",
        "\n",
        "# Step 4: Add title and labels\n",
        "plt.title('Line Graph of Random Numbers')\n",
        "plt.xlabel('Index')\n",
        "plt.ylabel('Value')\n",
        "\n",
        "# Step 5: Show the plot\n",
        "plt.show()\n"
      ],
      "metadata": {
        "colab": {
          "base_uri": "https://localhost:8080/",
          "height": 472
        },
        "id": "2-PyKTk70xuX",
        "outputId": "2594b6ac-c4af-471c-9e40-ee77fa99c6e4"
      },
      "execution_count": 12,
      "outputs": [
        {
          "output_type": "display_data",
          "data": {
            "text/plain": [
              "<Figure size 640x480 with 1 Axes>"
            ],
            "image/png": "[encoded data removed]"
          },
          "metadata": {}
        }
      ]
    }
  ]
}