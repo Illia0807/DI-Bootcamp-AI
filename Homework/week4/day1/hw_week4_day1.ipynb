{
  "cells": [
    {
      "cell_type": "markdown",
      "metadata": {
        "id": "NepS0XSvmmgJ"
      },
      "source": [
        "ex1"
      ]
    },
    {
      "cell_type": "code",
      "execution_count": null,
      "metadata": {
        "colab": {
          "base_uri": "https://localhost:8080/"
        },
        "id": "EMonUysncBSa",
        "outputId": "1f689d37-f2c4-4c4e-8929-8bb06edf8188"
      },
      "outputs": [
        {
          "name": "stdout",
          "output_type": "stream",
          "text": [
            "[0 1 2 3 4 5 6 7 8 9]\n"
          ]
        }
      ],
      "source": [
        "import numpy as np\n",
        "arr = np.arange(15)\n",
        "\n",
        "print(arr)"
      ]
    },
    {
      "cell_type": "markdown",
      "metadata": {
        "id": "TnBW2wm6mlm_"
      },
      "source": [
        "\n",
        "ex2\n"
      ]
    },
    {
      "cell_type": "code",
      "execution_count": 3,
      "metadata": {
        "colab": {
          "base_uri": "https://localhost:8080/"
        },
        "id": "Z3ICvuy_m2e4",
        "outputId": "88c6f8ca-8252-4a5d-f5f0-1c2a36634006"
      },
      "outputs": [
        {
          "name": "stdout",
          "output_type": "stream",
          "text": [
            "[3 2 0 1 2]\n"
          ]
        }
      ],
      "source": [
        "lst = [3.14, 2.17, 0, 1, 2]\n",
        "arr = np.array(lst, dtype=int)\n",
        "print(arr)"
      ]
    },
    {
      "cell_type": "markdown",
      "metadata": {
        "id": "r3fsCdWCm-x4"
      },
      "source": [
        "ex3"
      ]
    },
    {
      "cell_type": "code",
      "execution_count": 4,
      "metadata": {
        "colab": {
          "base_uri": "https://localhost:8080/"
        },
        "id": "LjuMh9u0m_3I",
        "outputId": "ea9fe1d2-97d2-4832-fdd2-b5bc58fb414f"
      },
      "outputs": [
        {
          "name": "stdout",
          "output_type": "stream",
          "text": [
            "[[1 2 3]\n",
            " [4 5 6]\n",
            " [7 8 9]]\n"
          ]
        }
      ],
      "source": [
        "arr = np.arange(1, 10).reshape(3, 3)\n",
        "\n",
        "print(arr)"
      ]
    },
    {
      "cell_type": "markdown",
      "metadata": {
        "id": "dBiDPvSMnKmg"
      },
      "source": [
        "ex4"
      ]
    },
    {
      "cell_type": "code",
      "execution_count": 5,
      "metadata": {
        "colab": {
          "base_uri": "https://localhost:8080/"
        },
        "id": "5Y7cqGkWnFsh",
        "outputId": "6c6a3af3-f1f6-4024-d2ab-15358a714ca3"
      },
      "outputs": [
        {
          "name": "stdout",
          "output_type": "stream",
          "text": [
            "[[0.4929744  0.26160143 0.93667835 0.45563834 0.61811803]\n",
            " [0.6005646  0.93124689 0.60966734 0.61499265 0.31394162]\n",
            " [0.12961454 0.37069866 0.55887818 0.69769386 0.69869672]\n",
            " [0.6348395  0.99947209 0.36276029 0.50877192 0.95322485]]\n"
          ]
        }
      ],
      "source": [
        "arr = np.random.rand(4, 5)\n",
        "\n",
        "print(arr)"
      ]
    },
    {
      "cell_type": "markdown",
      "metadata": {
        "id": "klUUsuD8nLzw"
      },
      "source": [
        "ex5"
      ]
    },
    {
      "cell_type": "code",
      "execution_count": 6,
      "metadata": {
        "colab": {
          "base_uri": "https://localhost:8080/"
        },
        "id": "PF4IUJnGnMwQ",
        "outputId": "c847e7eb-c868-40d2-f72b-a0560a16e713"
      },
      "outputs": [
        {
          "name": "stdout",
          "output_type": "stream",
          "text": [
            "[40 50 60]\n"
          ]
        }
      ],
      "source": [
        "arr = np.array([\n",
        "    [10, 20, 30],\n",
        "    [40, 50, 60],\n",
        "    [70, 80, 90]\n",
        "])\n",
        "second_row = arr[1]\n",
        "\n",
        "print(second_row)\n"
      ]
    },
    {
      "cell_type": "markdown",
      "metadata": {
        "id": "e5wAem_8nobI"
      },
      "source": [
        "ex6"
      ]
    },
    {
      "cell_type": "code",
      "execution_count": 8,
      "metadata": {
        "colab": {
          "base_uri": "https://localhost:8080/"
        },
        "id": "MKo6t_oqniag",
        "outputId": "b4238df7-630d-40a4-927a-088de2c3d66e"
      },
      "outputs": [
        {
          "name": "stdout",
          "output_type": "stream",
          "text": [
            "[5 4 3 2 1]\n"
          ]
        }
      ],
      "source": [
        "arr = np.array([1, 2, 3, 4, 5])\n",
        "reversed_arr = arr[::-1]\n",
        "\n",
        "print(reversed_arr)"
      ]
    },
    {
      "cell_type": "markdown",
      "metadata": {
        "id": "XhF0DLWbnk7o"
      },
      "source": [
        "ex7"
      ]
    },
    {
      "cell_type": "code",
      "execution_count": 9,
      "metadata": {
        "colab": {
          "base_uri": "https://localhost:8080/"
        },
        "id": "Buhn4cFBnjjA",
        "outputId": "9d00add7-b652-44da-af55-1fa68cd133ec"
      },
      "outputs": [
        {
          "name": "stdout",
          "output_type": "stream",
          "text": [
            "[[1. 0. 0. 0.]\n",
            " [0. 1. 0. 0.]\n",
            " [0. 0. 1. 0.]\n",
            " [0. 0. 0. 1.]]\n"
          ]
        }
      ],
      "source": [
        "identity_matrix = np.eye(4)\n",
        "\n",
        "print(identity_matrix)"
      ]
    },
    {
      "cell_type": "markdown",
      "metadata": {
        "id": "wqRYUEoOoEnZ"
      },
      "source": [
        "ex8"
      ]
    },
    {
      "cell_type": "code",
      "execution_count": 10,
      "metadata": {
        "colab": {
          "base_uri": "https://localhost:8080/"
        },
        "id": "F2VF7cI6oMMB",
        "outputId": "acbdfffc-1b3f-4fe8-ff98-58cc92467b96"
      },
      "outputs": [
        {
          "name": "stdout",
          "output_type": "stream",
          "text": [
            "Sum: 150\n",
            "Average: 30.0\n"
          ]
        }
      ],
      "source": [
        "arr = np.array([10, 20, 30, 40, 50])\n",
        "\n",
        "\n",
        "total = np.sum(arr)\n",
        "\n",
        "\n",
        "average = np.mean(arr)\n",
        "\n",
        "print(\"Sum:\", total)\n",
        "print(\"Average:\", average)"
      ]
    },
    {
      "cell_type": "markdown",
      "metadata": {
        "id": "_zXiKqs2oO7I"
      },
      "source": [
        "ex9"
      ]
    },
    {
      "cell_type": "code",
      "execution_count": 14,
      "metadata": {
        "colab": {
          "base_uri": "https://localhost:8080/"
        },
        "id": "ao0N0fCtoOwA",
        "outputId": "b0c2e674-de2b-4ea3-e14b-858007bf197e"
      },
      "outputs": [
        {
          "name": "stdout",
          "output_type": "stream",
          "text": [
            "[ 1  2  3  4  5  6  7  8  9 10 11 12 13 14 15 16 17 18 19 20]\n",
            "==================\n",
            "[[ 1  2  3  4  5]\n",
            " [ 6  7  8  9 10]\n",
            " [11 12 13 14 15]\n",
            " [16 17 18 19 20]]\n"
          ]
        }
      ],
      "source": [
        "arr = np.arange(1, 21)\n",
        "print(arr)\n",
        "print(\"==================\")\n",
        "reshaped_arr = arr.reshape(4, 5)\n",
        "print(reshaped_arr)"
      ]
    },
    {
      "cell_type": "code",
      "execution_count": 15,
      "metadata": {
        "colab": {
          "base_uri": "https://localhost:8080/"
        },
        "id": "HbyL5KRmoQj4",
        "outputId": "ee31f7bc-35a4-413f-99e0-482f65588da1"
      },
      "outputs": [
        {
          "name": "stdout",
          "output_type": "stream",
          "text": [
            "[1 3 5 7 9]\n"
          ]
        }
      ],
      "source": [
        "arr = np.array([1, 2, 3, 4, 5, 6, 7, 8, 9, 10])\n",
        "odd_numbers = arr[arr % 2 != 0]\n",
        "\n",
        "print(odd_numbers)"
      ]
    }
  ],
  "metadata": {
    "colab": {
      "provenance": []
    },
    "kernelspec": {
      "display_name": "Python 3",
      "name": "python3"
    },
    "language_info": {
      "name": "python"
    }
  },
  "nbformat": 4,
  "nbformat_minor": 0
}
